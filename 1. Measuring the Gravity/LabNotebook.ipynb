{
 "cells": [
  {
   "cell_type": "code",
   "execution_count": 206,
   "metadata": {},
   "outputs": [],
   "source": [
    "# DEFINING REQUIRED PACKAGES ---------------------------------------\n",
    "import matplotlib.pyplot as plt #import matplotlib to create plots\n",
    "import scipy.optimize as opt; #allows for curve fitting\n",
    "import pandas as pd #importing pandas to use dataframes\n",
    "import numpy as np\n",
    "from scipy.constants import g, pi\n",
    "from math import e\n",
    "plt.style.reload_library()\n",
    "plt.style.use(['science', 'grid'])\n",
    "import ipywidgets as widgets"
   ]
  },
  {
   "cell_type": "code",
   "execution_count": 273,
   "metadata": {},
   "outputs": [],
   "source": [
    "# DEFINING FITTING FUNCTIONS USED FOR THIS LAB ---------------------------------------\n",
    "def proportionality(x,a):\n",
    "    return a*x\n",
    "\n",
    "def linear(x,a,b):\n",
    "    return a*x + b\n",
    "\n",
    "def powerLaw(x,a,b):\n",
    "    return a*x**b\n",
    "\n",
    "def expLaw(x,a,b):\n",
    "    return a*e**(b*x)\n",
    "\n",
    "def LinearPlot(xdata,ydata,error,a,b,title,function,color,x_label,y_label):\n",
    "    fig = plt.figure(figsize=(5, 5), dpi=80)\n",
    "    plt.errorbar(xdata,ydata,yerr=error,capsize = 10,marker = 'o',markersize=1, linestyle = 'None',color='black')\n",
    "    if b==0:\n",
    "        label = r'$\\textit{Y = ' + str(\"{:.2e}\".format(a)) + 'X}$'\n",
    "    else:\n",
    "        label = r'$\\textit{Y = ' + str(\"{:.2e}\".format(a)) + 'X + ' + str(\"{:.2e}\".format(b)) + '}$'\n",
    "    plt.plot(xdata,function(xdata,*parameters),label = label, color=color)\n",
    "    plt.legend(loc = 'upper left')\n",
    "    plt.xlabel(r'$\\textit{'+ x_label +'}$', fontsize = 16)\n",
    "    plt.ylabel(r'$\\textit{'+ y_label +'}$', fontsize = 16)\n",
    "    plt.ticklabel_format(axis=\"y\", style=\"sci\", scilimits=(0,0))\n",
    "    plt.ticklabel_format(axis=\"x\", style=\"sci\", scilimits=(0,0))\n",
    "    plt.title(title, fontsize = 18)\n",
    "    plt.legend(prop={'size': 15}, loc=2)\n",
    "    plt.xticks(fontsize=15)\n",
    "    plt.yticks(fontsize=15)\n",
    "    plt.savefig(\"Figures/figure.png\")\n",
    "    \n",
    "def ScatterPlot(xdata,ydata,error,title,color,x_label,y_label):\n",
    "    fig = plt.figure(figsize=(5, 5), dpi=80)\n",
    "    plt.errorbar(xdata,ydata,yerr=error,capsize = 5,marker = 'o',markersize=3, linestyle = 'None',color='black')\n",
    "    plt.plot(xdata,ydata,color=color)\n",
    "    plt.xlabel(r'$\\textit{'+ x_label +'}$', fontsize = 16)\n",
    "    plt.ylabel(r'$\\textit{'+ y_label +'}$', fontsize = 16)\n",
    "    plt.title(title, fontsize = 18)\n",
    "    plt.xticks(fontsize=15)\n",
    "    plt.xlim([10, 61])\n",
    "    plt.yticks(fontsize=15)\n",
    "    plt.savefig(\"Figures/figure.png\")"
   ]
  },
  {
   "cell_type": "code",
   "execution_count": 284,
   "metadata": {},
   "outputs": [
    {
     "data": {
      "text/html": [
       "<div>\n",
       "<style scoped>\n",
       "    .dataframe tbody tr th:only-of-type {\n",
       "        vertical-align: middle;\n",
       "    }\n",
       "\n",
       "    .dataframe tbody tr th {\n",
       "        vertical-align: top;\n",
       "    }\n",
       "\n",
       "    .dataframe thead th {\n",
       "        text-align: right;\n",
       "    }\n",
       "</style>\n",
       "<table border=\"1\" class=\"dataframe\">\n",
       "  <thead>\n",
       "    <tr style=\"text-align: right;\">\n",
       "      <th></th>\n",
       "      <th>Angle (°)</th>\n",
       "      <th>L (m)</th>\n",
       "      <th>10T (s)</th>\n",
       "      <th>T (s)</th>\n",
       "      <th>$T^2 (s^2)$</th>\n",
       "      <th>Error(T)</th>\n",
       "      <th>Error(T^2)</th>\n",
       "      <th>Conditions</th>\n",
       "    </tr>\n",
       "  </thead>\n",
       "  <tbody>\n",
       "    <tr>\n",
       "      <th>0</th>\n",
       "      <td>9.73</td>\n",
       "      <td>0.381</td>\n",
       "      <td>11.53</td>\n",
       "      <td>1.153</td>\n",
       "      <td>1.329409</td>\n",
       "      <td>0.00826</td>\n",
       "      <td>0.019048</td>\n",
       "      <td>Fixed angle</td>\n",
       "    </tr>\n",
       "    <tr>\n",
       "      <th>1</th>\n",
       "      <td>9.73</td>\n",
       "      <td>0.665</td>\n",
       "      <td>16.50</td>\n",
       "      <td>1.650</td>\n",
       "      <td>2.722500</td>\n",
       "      <td>0.00826</td>\n",
       "      <td>0.027258</td>\n",
       "      <td>Fixed angle</td>\n",
       "    </tr>\n",
       "    <tr>\n",
       "      <th>2</th>\n",
       "      <td>9.73</td>\n",
       "      <td>1.065</td>\n",
       "      <td>20.65</td>\n",
       "      <td>2.065</td>\n",
       "      <td>4.264225</td>\n",
       "      <td>0.00826</td>\n",
       "      <td>0.034114</td>\n",
       "      <td>Fixed angle</td>\n",
       "    </tr>\n",
       "    <tr>\n",
       "      <th>3</th>\n",
       "      <td>9.73</td>\n",
       "      <td>1.335</td>\n",
       "      <td>23.22</td>\n",
       "      <td>2.322</td>\n",
       "      <td>5.391684</td>\n",
       "      <td>0.00826</td>\n",
       "      <td>0.038359</td>\n",
       "      <td>Fixed angle</td>\n",
       "    </tr>\n",
       "    <tr>\n",
       "      <th>4</th>\n",
       "      <td>9.73</td>\n",
       "      <td>1.606</td>\n",
       "      <td>25.50</td>\n",
       "      <td>2.550</td>\n",
       "      <td>6.502500</td>\n",
       "      <td>0.00826</td>\n",
       "      <td>0.042126</td>\n",
       "      <td>Fixed angle</td>\n",
       "    </tr>\n",
       "  </tbody>\n",
       "</table>\n",
       "</div>"
      ],
      "text/plain": [
       "   Angle (°)  L (m)  10T (s)  T (s)  $T^2 (s^2)$  Error(T)  Error(T^2)  \\\n",
       "0       9.73  0.381    11.53  1.153     1.329409   0.00826    0.019048   \n",
       "1       9.73  0.665    16.50  1.650     2.722500   0.00826    0.027258   \n",
       "2       9.73  1.065    20.65  2.065     4.264225   0.00826    0.034114   \n",
       "3       9.73  1.335    23.22  2.322     5.391684   0.00826    0.038359   \n",
       "4       9.73  1.606    25.50  2.550     6.502500   0.00826    0.042126   \n",
       "\n",
       "    Conditions  \n",
       "0  Fixed angle  \n",
       "1  Fixed angle  \n",
       "2  Fixed angle  \n",
       "3  Fixed angle  \n",
       "4  Fixed angle  "
      ]
     },
     "execution_count": 284,
     "metadata": {},
     "output_type": "execute_result"
    }
   ],
   "source": [
    "# READING THE DATA FROM GOOGLE SHEETS ---------------------------------------\n",
    "googleSheetId = '1GSmmOErJf7F4YjNmXeUkfH1FiBiIOD_8ImiHSWNrcEA'\n",
    "workSheetName = 'Lab'\n",
    "URL = 'https://docs.google.com/spreadsheets/d/{0}/gviz/tq?tqx=out:csv&sheet={1}'.format(\n",
    "    googleSheetId, workSheetName)\n",
    "df = pd.read_csv(URL)\n",
    "#df = df.apply(lambda x: pd.Series(x.dropna().values))\n",
    "#df = df.fillna('')\n",
    "df"
   ]
  },
  {
   "cell_type": "code",
   "execution_count": 286,
   "metadata": {},
   "outputs": [
    {
     "data": {
      "application/vnd.jupyter.widget-view+json": {
       "model_id": "4af65046749449e79050cc793c9daf0f",
       "version_major": 2,
       "version_minor": 0
      },
      "text/plain": [
       "Dropdown(description='Y-axis', layout=Layout(width='max-content'), options=('Select Column', 'Angle (°)', 'L (…"
      ]
     },
     "metadata": {},
     "output_type": "display_data"
    },
    {
     "data": {
      "application/vnd.jupyter.widget-view+json": {
       "model_id": "b17197c1f63449cd96323ac110ee6b39",
       "version_major": 2,
       "version_minor": 0
      },
      "text/plain": [
       "Dropdown(description='X-axis', layout=Layout(width='max-content'), options=('Select Column', 'Angle (°)', 'L (…"
      ]
     },
     "metadata": {},
     "output_type": "display_data"
    },
    {
     "data": {
      "application/vnd.jupyter.widget-view+json": {
       "model_id": "8cc0f7584d854b74928833e92c1126a4",
       "version_major": 2,
       "version_minor": 0
      },
      "text/plain": [
       "Dropdown(description='Error', layout=Layout(width='max-content'), options=('Select Column', 'Angle (°)', 'L (m…"
      ]
     },
     "metadata": {},
     "output_type": "display_data"
    }
   ],
   "source": [
    "# DISPLAYING DROPDOWN MENU OF COLUMNS ---------------------------------------\n",
    "filenames = list(df.columns.values)\n",
    "filenames.insert(0, 'Select Column')\n",
    "drop_down_x = widgets.Dropdown(options=filenames,\n",
    "                                description='X-axis',\n",
    "                                disabled=False,\n",
    "                                layout={'width': 'max-content'})\n",
    "drop_down_y = widgets.Dropdown(options=filenames,\n",
    "                                description='Y-axis',\n",
    "                                disabled=False,\n",
    "                                layout={'width': 'max-content'})\n",
    "drop_down_error = widgets.Dropdown(options=filenames,\n",
    "                                description='Error',\n",
    "                                disabled=False,\n",
    "                                layout={'width': 'max-content'})\n",
    "display(drop_down_y, drop_down_x, drop_down_error)"
   ]
  },
  {
   "cell_type": "code",
   "execution_count": 287,
   "metadata": {},
   "outputs": [
    {
     "data": {
      "image/png": "[encoded data removed]",
      "text/plain": [
       "<Figure size 400x400 with 1 Axes>"
      ]
     },
     "metadata": {
      "needs_background": "light"
     },
     "output_type": "display_data"
    }
   ],
   "source": [
    "# FITTING THE DATA USING A LINEAR RELATIONSHIP ---------------------------------------\n",
    "xdata, ydata, error = df[drop_down_x.value], df[drop_down_y.value], df[drop_down_error.value]\n",
    "parameters, covariance = opt.curve_fit(proportionality, xdata, ydata, sigma = error)\n",
    "perr = np.sqrt(np.diag(covariance))\n",
    "\n",
    "#Calculate the error on the fits from the covariacne matrix\n",
    "slope = parameters[0]\n",
    "slope_error = perr[0]\n",
    "\n",
    "if parameters.shape[0] > 1: \n",
    "    b = parameters[1] \n",
    "    b_error = perr[1]\n",
    "else:\n",
    "    b = 0\n",
    "    b_error = 0\n",
    "\n",
    "# PLOTTING THE DATA ---------------------------------------\n",
    "title = r'$\\textbf{' + drop_down_y.value + ' vs ' + drop_down_x.value + '}$'\n",
    "LinearPlot(xdata,ydata,error,slope,b,title,proportionality,'green',drop_down_x.value,drop_down_y.value)"
   ]
  },
  {
   "cell_type": "code",
   "execution_count": 239,
   "metadata": {},
   "outputs": [
    {
     "name": "stdout",
     "output_type": "stream",
     "text": [
      "slope_error = 7.8685e-02\n",
      "b_error = 0.0000e+00\n"
     ]
    }
   ],
   "source": [
    "print('slope_error = ' + \"{:.4e}\".format(slope_error))\n",
    "print('b_error = ' + \"{:.4e}\".format(b_error))"
   ]
  },
  {
   "cell_type": "code",
   "execution_count": 279,
   "metadata": {},
   "outputs": [
    {
     "data": {
      "text/html": [
       "<div>\n",
       "<style scoped>\n",
       "    .dataframe tbody tr th:only-of-type {\n",
       "        vertical-align: middle;\n",
       "    }\n",
       "\n",
       "    .dataframe tbody tr th {\n",
       "        vertical-align: top;\n",
       "    }\n",
       "\n",
       "    .dataframe thead th {\n",
       "        text-align: right;\n",
       "    }\n",
       "</style>\n",
       "<table border=\"1\" class=\"dataframe\">\n",
       "  <thead>\n",
       "    <tr style=\"text-align: right;\">\n",
       "      <th></th>\n",
       "      <th>$\\theta$ ($^\\circ$)</th>\n",
       "      <th>L (cm)</th>\n",
       "      <th>10T (sec)</th>\n",
       "      <th>T (s)</th>\n",
       "      <th>Error T</th>\n",
       "      <th>Conditions</th>\n",
       "    </tr>\n",
       "  </thead>\n",
       "  <tbody>\n",
       "    <tr>\n",
       "      <th>0</th>\n",
       "      <td>12.5</td>\n",
       "      <td>133.5</td>\n",
       "      <td>23.34</td>\n",
       "      <td>2.334</td>\n",
       "      <td>0.00826</td>\n",
       "      <td>Fixed length</td>\n",
       "    </tr>\n",
       "    <tr>\n",
       "      <th>1</th>\n",
       "      <td>15.0</td>\n",
       "      <td>133.5</td>\n",
       "      <td>23.34</td>\n",
       "      <td>2.334</td>\n",
       "      <td>0.00826</td>\n",
       "      <td>Fixed length</td>\n",
       "    </tr>\n",
       "    <tr>\n",
       "      <th>2</th>\n",
       "      <td>17.5</td>\n",
       "      <td>133.5</td>\n",
       "      <td>23.43</td>\n",
       "      <td>2.343</td>\n",
       "      <td>0.00826</td>\n",
       "      <td>Fixed length</td>\n",
       "    </tr>\n",
       "    <tr>\n",
       "      <th>3</th>\n",
       "      <td>20.0</td>\n",
       "      <td>133.5</td>\n",
       "      <td>23.47</td>\n",
       "      <td>2.347</td>\n",
       "      <td>0.00826</td>\n",
       "      <td>Fixed length</td>\n",
       "    </tr>\n",
       "    <tr>\n",
       "      <th>4</th>\n",
       "      <td>25.0</td>\n",
       "      <td>133.5</td>\n",
       "      <td>23.47</td>\n",
       "      <td>2.347</td>\n",
       "      <td>0.00826</td>\n",
       "      <td>Fixed length</td>\n",
       "    </tr>\n",
       "    <tr>\n",
       "      <th>5</th>\n",
       "      <td>30.0</td>\n",
       "      <td>133.5</td>\n",
       "      <td>23.72</td>\n",
       "      <td>2.372</td>\n",
       "      <td>0.00826</td>\n",
       "      <td>Fixed length</td>\n",
       "    </tr>\n",
       "    <tr>\n",
       "      <th>6</th>\n",
       "      <td>35.0</td>\n",
       "      <td>133.5</td>\n",
       "      <td>23.72</td>\n",
       "      <td>2.372</td>\n",
       "      <td>0.00826</td>\n",
       "      <td>Fixed length</td>\n",
       "    </tr>\n",
       "    <tr>\n",
       "      <th>7</th>\n",
       "      <td>40.0</td>\n",
       "      <td>133.5</td>\n",
       "      <td>23.84</td>\n",
       "      <td>2.384</td>\n",
       "      <td>0.00826</td>\n",
       "      <td>Fixed length</td>\n",
       "    </tr>\n",
       "    <tr>\n",
       "      <th>8</th>\n",
       "      <td>50.0</td>\n",
       "      <td>133.5</td>\n",
       "      <td>24.10</td>\n",
       "      <td>2.410</td>\n",
       "      <td>0.00826</td>\n",
       "      <td>Fixed length</td>\n",
       "    </tr>\n",
       "    <tr>\n",
       "      <th>9</th>\n",
       "      <td>55.0</td>\n",
       "      <td>133.5</td>\n",
       "      <td>24.47</td>\n",
       "      <td>2.447</td>\n",
       "      <td>0.00826</td>\n",
       "      <td>Fixed length</td>\n",
       "    </tr>\n",
       "    <tr>\n",
       "      <th>10</th>\n",
       "      <td>60.0</td>\n",
       "      <td>133.5</td>\n",
       "      <td>24.75</td>\n",
       "      <td>2.475</td>\n",
       "      <td>0.00826</td>\n",
       "      <td>Fixed length</td>\n",
       "    </tr>\n",
       "  </tbody>\n",
       "</table>\n",
       "</div>"
      ],
      "text/plain": [
       "    $\\theta$ ($^\\circ$)  L (cm)  10T (sec)  T (s)  Error T    Conditions\n",
       "0                  12.5   133.5      23.34  2.334  0.00826  Fixed length\n",
       "1                  15.0   133.5      23.34  2.334  0.00826  Fixed length\n",
       "2                  17.5   133.5      23.43  2.343  0.00826  Fixed length\n",
       "3                  20.0   133.5      23.47  2.347  0.00826  Fixed length\n",
       "4                  25.0   133.5      23.47  2.347  0.00826  Fixed length\n",
       "5                  30.0   133.5      23.72  2.372  0.00826  Fixed length\n",
       "6                  35.0   133.5      23.72  2.372  0.00826  Fixed length\n",
       "7                  40.0   133.5      23.84  2.384  0.00826  Fixed length\n",
       "8                  50.0   133.5      24.10  2.410  0.00826  Fixed length\n",
       "9                  55.0   133.5      24.47  2.447  0.00826  Fixed length\n",
       "10                 60.0   133.5      24.75  2.475  0.00826  Fixed length"
      ]
     },
     "execution_count": 279,
     "metadata": {},
     "output_type": "execute_result"
    }
   ],
   "source": [
    "# READING THE DATA FROM GOOGLE SHEETS ---------------------------------------\n",
    "workSheetName = 'constantLength'\n",
    "URL = 'https://docs.google.com/spreadsheets/d/{0}/gviz/tq?tqx=out:csv&sheet={1}'.format(\n",
    "    googleSheetId, workSheetName)\n",
    "df_time = pd.read_csv(URL)\n",
    "df_time"
   ]
  },
  {
   "cell_type": "code",
   "execution_count": 281,
   "metadata": {},
   "outputs": [
    {
     "data": {
      "application/vnd.jupyter.widget-view+json": {
       "model_id": "3b751c6537f14c01b9f139551030ed6e",
       "version_major": 2,
       "version_minor": 0
      },
      "text/plain": [
       "Dropdown(description='Y-axis', layout=Layout(width='max-content'), options=('Select Column', '$\\\\theta$ ($^\\\\c…"
      ]
     },
     "metadata": {},
     "output_type": "display_data"
    },
    {
     "data": {
      "application/vnd.jupyter.widget-view+json": {
       "model_id": "d1e1f26dfbfb48c1860971f8aa1ccc46",
       "version_major": 2,
       "version_minor": 0
      },
      "text/plain": [
       "Dropdown(description='X-axis', layout=Layout(width='max-content'), options=('Select Column', '$\\\\theta$ ($^\\\\c…"
      ]
     },
     "metadata": {},
     "output_type": "display_data"
    },
    {
     "data": {
      "application/vnd.jupyter.widget-view+json": {
       "model_id": "b1a54dab53994c1690b55133ee62d42c",
       "version_major": 2,
       "version_minor": 0
      },
      "text/plain": [
       "Dropdown(description='Error', layout=Layout(width='max-content'), options=('Select Column', '$\\\\theta$ ($^\\\\ci…"
      ]
     },
     "metadata": {},
     "output_type": "display_data"
    }
   ],
   "source": [
    "# DISPLAYING DROPDOWN MENU OF COLUMNS ---------------------------------------\n",
    "filenames = list(df_time.columns.values)\n",
    "filenames.insert(0, 'Select Column')\n",
    "drop_down_x = widgets.Dropdown(options=filenames,\n",
    "                                description='X-axis',\n",
    "                                disabled=False,\n",
    "                                layout={'width': 'max-content'})\n",
    "drop_down_y = widgets.Dropdown(options=filenames,\n",
    "                                description='Y-axis',\n",
    "                                disabled=False,\n",
    "                                layout={'width': 'max-content'})\n",
    "drop_down_error = widgets.Dropdown(options=filenames,\n",
    "                                description='Error',\n",
    "                                disabled=False,\n",
    "                                layout={'width': 'max-content'})\n",
    "display(drop_down_y, drop_down_x, drop_down_error)"
   ]
  },
  {
   "cell_type": "code",
   "execution_count": 282,
   "metadata": {},
   "outputs": [
    {
     "data": {
      "image/png": "[encoded data removed]",
      "text/plain": [
       "<Figure size 400x400 with 1 Axes>"
      ]
     },
     "metadata": {
      "needs_background": "light"
     },
     "output_type": "display_data"
    }
   ],
   "source": [
    "# FITTING THE DATA USING A POWER-LAW RELATIONSHIP ---------------------------------------\n",
    "xdata, ydata, error = df_time[drop_down_x.value], df_time[drop_down_y.value], df_time[drop_down_error.value]\n",
    "parameters, covariance = opt.curve_fit(linear, xdata, ydata, sigma = error)\n",
    "perr = np.sqrt(np.diag(covariance))\n",
    "\n",
    "#Calculate the error on the fits from the covariacne matrix\n",
    "slope = parameters[0]\n",
    "slope_error = perr[0]\n",
    "\n",
    "if parameters.shape[0] > 1: \n",
    "    b = parameters[1] \n",
    "    b_error = perr[1]\n",
    "else:\n",
    "    b = 0\n",
    "    b_error = 0\n",
    "    \n",
    "# PLOTTING THE DATA ---------------------------------------\n",
    "title = r'$\\textbf{' + drop_down_y.value + ' vs ' + drop_down_x.value + '}$'\n",
    "ScatterPlot(xdata,ydata,error,title,'green',drop_down_x.value,drop_down_y.value)"
   ]
  },
  {
   "cell_type": "markdown",
   "metadata": {},
   "source": [
    "## HERE STARTS THE LAB DATA TREATMENT ------------------"
   ]
  },
  {
   "cell_type": "code",
   "execution_count": 261,
   "metadata": {},
   "outputs": [
    {
     "data": {
      "text/html": [
       "<div>\n",
       "<style scoped>\n",
       "    .dataframe tbody tr th:only-of-type {\n",
       "        vertical-align: middle;\n",
       "    }\n",
       "\n",
       "    .dataframe tbody tr th {\n",
       "        vertical-align: top;\n",
       "    }\n",
       "\n",
       "    .dataframe thead th {\n",
       "        text-align: right;\n",
       "    }\n",
       "</style>\n",
       "<table border=\"1\" class=\"dataframe\">\n",
       "  <thead>\n",
       "    <tr style=\"text-align: right;\">\n",
       "      <th></th>\n",
       "      <th>10T (sec)</th>\n",
       "    </tr>\n",
       "  </thead>\n",
       "  <tbody>\n",
       "    <tr>\n",
       "      <th>0</th>\n",
       "      <td>20.65</td>\n",
       "    </tr>\n",
       "    <tr>\n",
       "      <th>1</th>\n",
       "      <td>20.59</td>\n",
       "    </tr>\n",
       "    <tr>\n",
       "      <th>2</th>\n",
       "      <td>20.63</td>\n",
       "    </tr>\n",
       "    <tr>\n",
       "      <th>3</th>\n",
       "      <td>20.56</td>\n",
       "    </tr>\n",
       "    <tr>\n",
       "      <th>4</th>\n",
       "      <td>20.44</td>\n",
       "    </tr>\n",
       "  </tbody>\n",
       "</table>\n",
       "</div>"
      ],
      "text/plain": [
       "   10T (sec)\n",
       "0      20.65\n",
       "1      20.59\n",
       "2      20.63\n",
       "3      20.56\n",
       "4      20.44"
      ]
     },
     "execution_count": 261,
     "metadata": {},
     "output_type": "execute_result"
    }
   ],
   "source": [
    "# READING THE DATA FROM GOOGLE SHEETS ---------------------------------------\n",
    "workSheetName = 'TimeUncertainty'\n",
    "URL = 'https://docs.google.com/spreadsheets/d/{0}/gviz/tq?tqx=out:csv&sheet={1}'.format(\n",
    "    googleSheetId, workSheetName)\n",
    "df_time = pd.read_csv(URL)\n",
    "df_time"
   ]
  },
  {
   "cell_type": "code",
   "execution_count": 222,
   "metadata": {},
   "outputs": [
    {
     "name": "stdout",
     "output_type": "stream",
     "text": [
      "The standard deviation of our time measurement is: ΔT = 0.00826 sec.\n"
     ]
    }
   ],
   "source": [
    "# DETERMINING THE REACTION TIME \n",
    "std = df_time['T (sec)'].std()/10\n",
    "print(\"The standard deviation of our time measurement is: ΔT = \" + \"{:.5f}\".format(std) + \" sec.\")"
   ]
  },
  {
   "cell_type": "code",
   "execution_count": 288,
   "metadata": {},
   "outputs": [
    {
     "name": "stdout",
     "output_type": "stream",
     "text": [
      "Experimental result: g = 9.8838 ± 0.1947 m/s^2\n"
     ]
    }
   ],
   "source": [
    "# DETERMING THE VALUE OF g WITH ITS UNCERTAINTY\n",
    "g_exp = (4*pi**2)/slope\n",
    "g_error = ((4*pi**2)/slope**2)*slope_error\n",
    "units = 'm/s^2'\n",
    "print('Experimental result: g = ' + \"{:.4f}\".format(g_exp) + ' ± ' + \"{:.4f}\".format(g_error) + ' ' + units)"
   ]
  }
 ],
 "metadata": {
  "kernelspec": {
   "display_name": "Python 3",
   "language": "python",
   "name": "python3"
  },
  "language_info": {
   "codemirror_mode": {
    "name": "ipython",
    "version": 3
   },
   "file_extension": ".py",
   "mimetype": "text/x-python",
   "name": "python",
   "nbconvert_exporter": "python",
   "pygments_lexer": "ipython3",
   "version": "3.8.5"
  }
 },
 "nbformat": 4,
 "nbformat_minor": 4
}
