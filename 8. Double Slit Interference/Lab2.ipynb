{
 "cells": [
  {
   "cell_type": "code",
   "execution_count": 4,
   "id": "f4cb2460-3aa9-4d8b-9bfc-ec69ac765dc6",
   "metadata": {},
   "outputs": [],
   "source": [
    "import numpy as np\n",
    "import matplotlib.pyplot as plt\n",
    "import pandas as pd\n",
    "from numpy import pi\n",
    "from matplotlib import rc\n",
    "plt.style.reload_library()\n",
    "plt.style.use(['science', 'grid'])\n",
    "from scipy.odr import ODR, Model, Data, RealData\n",
    "import scipy.optimize as opt; #allows for curve fitting\n",
    "from scipy.odr import *"
   ]
  },
  {
   "cell_type": "code",
   "execution_count": 42,
   "id": "07da1bb5-e0f1-46e0-83ea-1a8e9549ac7f",
   "metadata": {},
   "outputs": [],
   "source": [
    "# DEFINING FITTING FUNCTIONS\n",
    "def Interference_double(parameters, x): # [a, d, lambda]\n",
    "    beta = (pi*parameters[1]/parameters[2])*np.sin(x)\n",
    "    alpha = (pi*parameters[0]/parameters[2])*np.sin(x)\n",
    "    return (np.cos(beta)**2)*(np.sin(alpha)/alpha)**2\n",
    "\n",
    "def Interference_double2(parameters, x): # [lambda]\n",
    "    beta = (pi*0.4431e-3/parameters[0])*np.sin(x)\n",
    "    alpha = (pi*0.0828e-3/parameters[0])*np.sin(x)\n",
    "    return (np.cos(beta)**2)*(np.sin(alpha)/alpha)**2\n",
    "\n",
    "def Interference_single(parameters,x): # [a]\n",
    "    alpha = (pi*parameters[0]/(656e-9))*np.sin(x)\n",
    "    return (np.sin(alpha)/alpha)**2\n",
    "\n",
    "def PlotODR(xdata,ydata,error_x,error_y,function,output,color,x_label,y_label,low_limit, up_limit):\n",
    "    fig = plt.figure(figsize=(5, 5), dpi=80)\n",
    "    plt.errorbar(xdata,ydata,yerr=error_y,capsize = 5,marker = 'o',markersize=4, linestyle = 'None',color='black')\n",
    "    plt.errorbar(xdata,ydata,xerr=error_x,capsize = 5,marker = 'o',markersize=4, linestyle = 'None',color='black')\n",
    "    \n",
    "    title = r'$\\textbf{' + y_label + ' vs ' + x_label + '}$'\n",
    "    x = np.linspace(low_limit, up_limit, 500)\n",
    "    plt.plot(x,function(output.beta, x),color=color)\n",
    "    plt.xlabel(r'$\\textit{'+ x_label +'}$', fontsize = 16)\n",
    "    plt.ylabel(r'$\\textit{'+ y_label +'}$', fontsize = 16)\n",
    "    plt.ticklabel_format(axis=\"y\", style=\"sci\", scilimits=(0,0))\n",
    "    plt.ticklabel_format(axis=\"x\", style=\"sci\", scilimits=(0,0))\n",
    "    plt.xticks(fontsize=15)\n",
    "    plt.yticks(fontsize=15)\n",
    "    plt.axvline(x=0, color='k', linestyle='--')\n",
    "    plt.savefig(\"Figures/figure.png\")\n",
    "\n",
    "def arctanfunc(x):\n",
    "    return np.arctan(x)[0]\n",
    "\n",
    "# DEFINING A FUNCTION THAT RETURNS THE UNCERTAINTY USING VARIATIONAL METHOD\n",
    "def uncertainty_var(values, deltas, function):\n",
    "    values, deltas = np.array(values), np.array(deltas)\n",
    "    delta_matrix = deltas*np.identity(values.shape[0])\n",
    "    sum = 0\n",
    "    for delta in delta_matrix:\n",
    "        sum += (0.5*(abs(function(values + delta) - function(values)) + abs(function(values-delta) - function(values))))**2\n",
    "    return np.sqrt(sum)\n",
    "\n",
    "# DEFINING A FUNCTION THAT RETURNS THE WEIGHTED AVERAGE WITH UNCERTAINTY\n",
    "def weighted_avgs(values, deltas):\n",
    "    weights = np.array(list(map(lambda x : 1/x**2, deltas)))\n",
    "    best_val = np.dot(np.array(values), weights)/weights.sum()\n",
    "    uncert = 1/np.sqrt(weights.sum())\n",
    "    return [best_val, uncert]"
   ]
  },
  {
   "cell_type": "markdown",
   "id": "5a148337-3c27-4fa5-b055-5723c3fe37f4",
   "metadata": {},
   "source": [
    "## Double Slit"
   ]
  },
  {
   "cell_type": "code",
   "execution_count": 27,
   "id": "9004a1ad-123d-4fa0-9436-571f14afeafc",
   "metadata": {},
   "outputs": [
    {
     "data": {
      "text/html": [
       "<div>\n",
       "<style scoped>\n",
       "    .dataframe tbody tr th:only-of-type {\n",
       "        vertical-align: middle;\n",
       "    }\n",
       "\n",
       "    .dataframe tbody tr th {\n",
       "        vertical-align: top;\n",
       "    }\n",
       "\n",
       "    .dataframe thead th {\n",
       "        text-align: right;\n",
       "    }\n",
       "</style>\n",
       "<table border=\"1\" class=\"dataframe\">\n",
       "  <thead>\n",
       "    <tr style=\"text-align: right;\">\n",
       "      <th></th>\n",
       "      <th>Counts</th>\n",
       "      <th>Uncert_Count</th>\n",
       "      <th>Position (mm)</th>\n",
       "      <th>Position - offset (mm)</th>\n",
       "      <th>Uncert_Position (mm)</th>\n",
       "      <th>Normalized Counts</th>\n",
       "      <th>Theta (rad)</th>\n",
       "      <th>Error theta</th>\n",
       "    </tr>\n",
       "  </thead>\n",
       "  <tbody>\n",
       "    <tr>\n",
       "      <th>0</th>\n",
       "      <td>1249</td>\n",
       "      <td>35.341194</td>\n",
       "      <td>5.75</td>\n",
       "      <td>1.55</td>\n",
       "      <td>0.01</td>\n",
       "      <td>0.100995</td>\n",
       "      <td>0.0031</td>\n",
       "      <td>0.00002</td>\n",
       "    </tr>\n",
       "    <tr>\n",
       "      <th>1</th>\n",
       "      <td>1298</td>\n",
       "      <td>36.027767</td>\n",
       "      <td>5.70</td>\n",
       "      <td>1.50</td>\n",
       "      <td>0.01</td>\n",
       "      <td>0.104957</td>\n",
       "      <td>0.0030</td>\n",
       "      <td>0.00002</td>\n",
       "    </tr>\n",
       "    <tr>\n",
       "      <th>2</th>\n",
       "      <td>1433</td>\n",
       "      <td>37.854986</td>\n",
       "      <td>4.50</td>\n",
       "      <td>0.30</td>\n",
       "      <td>0.01</td>\n",
       "      <td>0.115873</td>\n",
       "      <td>0.0006</td>\n",
       "      <td>0.00002</td>\n",
       "    </tr>\n",
       "    <tr>\n",
       "      <th>3</th>\n",
       "      <td>1449</td>\n",
       "      <td>38.065733</td>\n",
       "      <td>2.05</td>\n",
       "      <td>-2.15</td>\n",
       "      <td>0.01</td>\n",
       "      <td>0.117167</td>\n",
       "      <td>-0.0043</td>\n",
       "      <td>0.00002</td>\n",
       "    </tr>\n",
       "    <tr>\n",
       "      <th>4</th>\n",
       "      <td>1511</td>\n",
       "      <td>38.871583</td>\n",
       "      <td>5.10</td>\n",
       "      <td>0.90</td>\n",
       "      <td>0.01</td>\n",
       "      <td>0.122180</td>\n",
       "      <td>0.0018</td>\n",
       "      <td>0.00002</td>\n",
       "    </tr>\n",
       "    <tr>\n",
       "      <th>...</th>\n",
       "      <td>...</td>\n",
       "      <td>...</td>\n",
       "      <td>...</td>\n",
       "      <td>...</td>\n",
       "      <td>...</td>\n",
       "      <td>...</td>\n",
       "      <td>...</td>\n",
       "      <td>...</td>\n",
       "    </tr>\n",
       "    <tr>\n",
       "      <th>77</th>\n",
       "      <td>10592</td>\n",
       "      <td>102.917443</td>\n",
       "      <td>4.80</td>\n",
       "      <td>0.60</td>\n",
       "      <td>0.01</td>\n",
       "      <td>0.856473</td>\n",
       "      <td>0.0012</td>\n",
       "      <td>0.00002</td>\n",
       "    </tr>\n",
       "    <tr>\n",
       "      <th>78</th>\n",
       "      <td>11017</td>\n",
       "      <td>104.961898</td>\n",
       "      <td>4.10</td>\n",
       "      <td>-0.10</td>\n",
       "      <td>0.01</td>\n",
       "      <td>0.890839</td>\n",
       "      <td>-0.0002</td>\n",
       "      <td>0.00002</td>\n",
       "    </tr>\n",
       "    <tr>\n",
       "      <th>79</th>\n",
       "      <td>11100</td>\n",
       "      <td>105.356538</td>\n",
       "      <td>3.55</td>\n",
       "      <td>-0.65</td>\n",
       "      <td>0.01</td>\n",
       "      <td>0.897550</td>\n",
       "      <td>-0.0013</td>\n",
       "      <td>0.00002</td>\n",
       "    </tr>\n",
       "    <tr>\n",
       "      <th>80</th>\n",
       "      <td>11585</td>\n",
       "      <td>107.633638</td>\n",
       "      <td>4.25</td>\n",
       "      <td>0.05</td>\n",
       "      <td>0.01</td>\n",
       "      <td>0.936767</td>\n",
       "      <td>0.0001</td>\n",
       "      <td>0.00002</td>\n",
       "    </tr>\n",
       "    <tr>\n",
       "      <th>81</th>\n",
       "      <td>12367</td>\n",
       "      <td>111.207014</td>\n",
       "      <td>4.15</td>\n",
       "      <td>-0.05</td>\n",
       "      <td>0.01</td>\n",
       "      <td>1.000000</td>\n",
       "      <td>-0.0001</td>\n",
       "      <td>0.00002</td>\n",
       "    </tr>\n",
       "  </tbody>\n",
       "</table>\n",
       "<p>82 rows × 8 columns</p>\n",
       "</div>"
      ],
      "text/plain": [
       "    Counts  Uncert_Count  Position (mm)  Position - offset (mm)  \\\n",
       "0     1249     35.341194           5.75                    1.55   \n",
       "1     1298     36.027767           5.70                    1.50   \n",
       "2     1433     37.854986           4.50                    0.30   \n",
       "3     1449     38.065733           2.05                   -2.15   \n",
       "4     1511     38.871583           5.10                    0.90   \n",
       "..     ...           ...            ...                     ...   \n",
       "77   10592    102.917443           4.80                    0.60   \n",
       "78   11017    104.961898           4.10                   -0.10   \n",
       "79   11100    105.356538           3.55                   -0.65   \n",
       "80   11585    107.633638           4.25                    0.05   \n",
       "81   12367    111.207014           4.15                   -0.05   \n",
       "\n",
       "    Uncert_Position (mm)  Normalized Counts  Theta (rad)  Error theta  \n",
       "0                   0.01           0.100995       0.0031      0.00002  \n",
       "1                   0.01           0.104957       0.0030      0.00002  \n",
       "2                   0.01           0.115873       0.0006      0.00002  \n",
       "3                   0.01           0.117167      -0.0043      0.00002  \n",
       "4                   0.01           0.122180       0.0018      0.00002  \n",
       "..                   ...                ...          ...          ...  \n",
       "77                  0.01           0.856473       0.0012      0.00002  \n",
       "78                  0.01           0.890839      -0.0002      0.00002  \n",
       "79                  0.01           0.897550      -0.0013      0.00002  \n",
       "80                  0.01           0.936767       0.0001      0.00002  \n",
       "81                  0.01           1.000000      -0.0001      0.00002  \n",
       "\n",
       "[82 rows x 8 columns]"
      ]
     },
     "execution_count": 27,
     "metadata": {},
     "output_type": "execute_result"
    }
   ],
   "source": [
    "# READING THE DATA FROM GOOGLE SHEETS ---------------------------------------\n",
    "googleSheetId = '1iYbA_X-BAgKxj-p5xsn6TMuqubb39IdXJCk7EbgtABg'\n",
    "workSheetName = 'Week2_Double_Slit'\n",
    "URL = 'https://docs.google.com/spreadsheets/d/{0}/gviz/tq?tqx=out:csv&sheet={1}'.format(\n",
    "    googleSheetId, workSheetName)\n",
    "df = pd.read_csv(URL)\n",
    "df = df.iloc[: , :7]\n",
    "df['Error theta'] = df.apply(lambda x: uncertainty_var([x['Position (mm)']/500], [x['Uncert_Position (mm)']/500], arctanfunc), axis=1)\n",
    "df"
   ]
  },
  {
   "cell_type": "code",
   "execution_count": 43,
   "id": "c2df9e4a-b5d2-4f85-86ef-a10ed5333b34",
   "metadata": {},
   "outputs": [
    {
     "name": "stdout",
     "output_type": "stream",
     "text": [
      "lambda = ( 548.3419633606538  ±  2.680960857546493 ) nm\n",
      "Percentage error:  0.6132042863585019 %\n",
      "Experimental precision: 0.48892133680879346 %\n",
      "Sigmas: 1.2541982527514703\n"
     ]
    },
    {
     "data": {
      "image/png": "[encoded data removed]",
      "text/plain": [
       "<Figure size 400x400 with 1 Axes>"
      ]
     },
     "metadata": {
      "needs_background": "light"
     },
     "output_type": "display_data"
    }
   ],
   "source": [
    "# Adjusting the origin\n",
    "#df['Normalized Counts'] = df['Normalized Counts'] - df['Normalized Counts'].min()\n",
    "model = Model(Interference_double2)\n",
    "xdata, ydata, error_x, error_y = df['Theta (rad)'], df['Normalized Counts'], df['Error theta'], df['Uncert_Count']/(df['Counts'].max())\n",
    "x_min, x_max = df['Theta (rad)'].min(), df['Theta (rad)'].max()\n",
    "data = RealData(xdata, ydata, error_x, error_y)\n",
    "odr = ODR(data, model, [545e-9])\n",
    "odr.set_job(fit_type=2) #Ordinary least squeares\n",
    "output = odr.run()\n",
    "lamb, dlamb = output.beta[0]*1e9, output.sd_beta[0]*1e9\n",
    "PlotODR(xdata, ydata, error_x, error_y, Interference_double2, output,'green',r'$\\theta \\ (rad)$', 'Normalized Counts',x_min, x_max)\n",
    "lamb_nominal = 545 #nm\n",
    "print('lambda = (', lamb, ' ± ', dlamb, ') nm')\n",
    "\n",
    "# DETERMING THE %ERROR\n",
    "error = abs((lamb-lamb_nominal)/lamb_nominal)*100\n",
    "print(\"Percentage error: \", error, \"%\")\n",
    "exp_precision = 100*dlamb/lamb\n",
    "print('Experimental precision:', exp_precision, '%')\n",
    "print('Sigmas:', error/exp_precision)"
   ]
  },
  {
   "cell_type": "markdown",
   "id": "810a23e8-5e79-42fa-bc50-4be33819eeb2",
   "metadata": {},
   "source": [
    "# Wave-like interference"
   ]
  },
  {
   "cell_type": "code",
   "execution_count": 34,
   "id": "dde730a3-d578-4694-bfbd-05ffbc20bc47",
   "metadata": {},
   "outputs": [
    {
     "name": "stdout",
     "output_type": "stream",
     "text": [
      "Time of flight =  1.6666666666666667e-09  sec\n"
     ]
    }
   ],
   "source": [
    "# Time of flight\n",
    "path_length = 500e-3 #m\n",
    "velocity = 3e8 #m\n",
    "time_flight = path_length/velocity\n",
    "print('Time of flight = ', time_flight, ' sec')"
   ]
  },
  {
   "cell_type": "code",
   "execution_count": 36,
   "id": "0f88c7ac-7ee2-4a07-a27f-baa6bb35fd29",
   "metadata": {},
   "outputs": [
    {
     "name": "stdout",
     "output_type": "stream",
     "text": [
      "Time between photons =  8.100708001879364e-05  sec\n"
     ]
    }
   ],
   "source": [
    "# Time between photons\n",
    "max_count = 12344.6 # Maximum count rate (Photons x second)\n",
    "time_photons = 1/max_count\n",
    "print('Time between photons = ', time_photons, ' sec')"
   ]
  },
  {
   "cell_type": "code",
   "execution_count": 41,
   "id": "380c042b-bf6f-42eb-ae92-4774f9c84f1f",
   "metadata": {},
   "outputs": [
    {
     "name": "stdout",
     "output_type": "stream",
     "text": [
      "Fraction =  0.0020574333333333336 %\n"
     ]
    }
   ],
   "source": [
    "# Fraction of time\n",
    "frac = 100*time_flight/time_photons\n",
    "print('Fraction = ', frac, '%')"
   ]
  },
  {
   "cell_type": "code",
   "execution_count": null,
   "id": "3f08fd0f-33df-40cc-b9fe-87a39b374c5a",
   "metadata": {},
   "outputs": [],
   "source": []
  }
 ],
 "metadata": {
  "kernelspec": {
   "display_name": "Python 3",
   "language": "python",
   "name": "python3"
  },
  "language_info": {
   "codemirror_mode": {
    "name": "ipython",
    "version": 3
   },
   "file_extension": ".py",
   "mimetype": "text/x-python",
   "name": "python",
   "nbconvert_exporter": "python",
   "pygments_lexer": "ipython3",
   "version": "3.8.8"
  }
 },
 "nbformat": 4,
 "nbformat_minor": 5
}
