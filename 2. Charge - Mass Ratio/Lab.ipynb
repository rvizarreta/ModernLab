{
 "cells": [
  {
   "cell_type": "code",
   "execution_count": 1,
   "metadata": {},
   "outputs": [],
   "source": [
    "# DEFINING REQUIRED PACKAGES ---------------------------------------\n",
    "import matplotlib.pyplot as plt #import matplotlib to create plots\n",
    "import scipy.optimize as opt; #allows for curve fitting\n",
    "from scipy.odr import *\n",
    "import pandas as pd #importing pandas to use dataframes\n",
    "import numpy as np\n",
    "from scipy.constants import g, pi\n",
    "plt.style.reload_library()\n",
    "plt.style.use(['science', 'grid'])\n",
    "import ipywidgets as widgets"
   ]
  },
  {
   "cell_type": "code",
   "execution_count": 2,
   "metadata": {},
   "outputs": [],
   "source": [
    "# DEFINING FITTING FUNCTIONS USED FOR THIS LAB ---------------------------------------\n",
    "def proportionality(x,a):\n",
    "    return a*x\n",
    "\n",
    "def linear(x,a,b):\n",
    "    return a*x + b\n",
    "\n",
    "def linearODR(B,x):\n",
    "    return B[0]*x + B[1]\n",
    "\n",
    "def LinearPlot(xdata,ydata,error_y,error_x,a,b,title,function,color,x_label,y_label):\n",
    "    fig = plt.figure(figsize=(5, 5), dpi=80)\n",
    "    plt.errorbar(xdata,ydata,yerr=error_y,capsize = 5,marker = 'o',markersize=4, linestyle = 'None',color='black')\n",
    "    plt.errorbar(xdata,ydata,xerr=error_x,capsize = 5,marker = 'o',markersize=4, linestyle = 'None',color='black')\n",
    "    if b==0:\n",
    "        label = r'$\\textit{Y = ' + str(\"{:.2e}\".format(a)) + 'X}$'\n",
    "    else:\n",
    "        label = r'$\\textit{Y = ' + str(\"{:.2e}\".format(a)) + 'X + ' + str(\"{:.2e}\".format(b)) + '}$'\n",
    "    plt.plot(xdata,function(xdata,*parameters),label = label, color=color)\n",
    "    plt.legend(loc = 'upper left')\n",
    "    plt.xlabel(r'$\\textit{'+ x_label +'}$', fontsize = 16)\n",
    "    plt.ylabel(r'$\\textit{'+ y_label +'}$', fontsize = 16)\n",
    "    plt.ticklabel_format(axis=\"y\", style=\"sci\", scilimits=(0,0))\n",
    "    plt.title(title, fontsize = 18)\n",
    "    plt.legend(prop={'size': 15}, loc=2)\n",
    "    plt.xticks(fontsize=15)\n",
    "    plt.yticks(fontsize=15)\n",
    "    plt.savefig(\"Figures/figure.png\")\n",
    "    \n",
    "def LinearPlotODR(xdata,ydata,error_y,error_x,a,b,title,function,output,color,x_label,y_label):\n",
    "    fig = plt.figure(figsize=(5, 5), dpi=80)\n",
    "    plt.errorbar(xdata,ydata,yerr=error_y,capsize = 5,marker = 'o',markersize=4, linestyle = 'None',color='black')\n",
    "    plt.errorbar(xdata,ydata,xerr=error_x,capsize = 5,marker = 'o',markersize=4, linestyle = 'None',color='black')\n",
    "    if b==0:\n",
    "        label = r'$\\textit{Y = ' + str(\"{:.2e}\".format(a)) + 'X}$'\n",
    "    else:\n",
    "        label = r'$\\textit{Y = ' + str(\"{:.2e}\".format(a)) + 'X + ' + str(\"{:.2e}\".format(b)) + '}$'\n",
    "    plt.plot(xdata,function(output.beta, xdata),label = label, color=color)\n",
    "    plt.legend(loc = 'upper left')\n",
    "    plt.xlabel(r'$\\textit{'+ x_label +'}$', fontsize = 16)\n",
    "    plt.ylabel(r'$\\textit{'+ y_label +'}$', fontsize = 16)\n",
    "    plt.ticklabel_format(axis=\"y\", style=\"sci\", scilimits=(0,0))\n",
    "    plt.title(title, fontsize = 18)\n",
    "    plt.legend(prop={'size': 12}, loc=2)\n",
    "    plt.xticks(fontsize=15)\n",
    "    plt.yticks(fontsize=15)\n",
    "    plt.savefig(\"Figures/figure.png\")"
   ]
  },
  {
   "cell_type": "code",
   "execution_count": 5,
   "metadata": {},
   "outputs": [
    {
     "data": {
      "text/html": [
       "<div>\n",
       "<style scoped>\n",
       "    .dataframe tbody tr th:only-of-type {\n",
       "        vertical-align: middle;\n",
       "    }\n",
       "\n",
       "    .dataframe tbody tr th {\n",
       "        vertical-align: top;\n",
       "    }\n",
       "\n",
       "    .dataframe thead th {\n",
       "        text-align: right;\n",
       "    }\n",
       "</style>\n",
       "<table border=\"1\" class=\"dataframe\">\n",
       "  <thead>\n",
       "    <tr style=\"text-align: right;\">\n",
       "      <th></th>\n",
       "      <th>Current (A)</th>\n",
       "      <th>Voltage (V)</th>\n",
       "      <th>Diameter (cm)</th>\n",
       "      <th>Diameter (m)</th>\n",
       "      <th>D_Error (m)</th>\n",
       "      <th>$\\sqrt{V}/I$</th>\n",
       "      <th>V_Error (V)</th>\n",
       "      <th>I_Error (A)</th>\n",
       "      <th>VI_Error</th>\n",
       "    </tr>\n",
       "  </thead>\n",
       "  <tbody>\n",
       "    <tr>\n",
       "      <th>0</th>\n",
       "      <td>1.00</td>\n",
       "      <td>150.5</td>\n",
       "      <td>10.3</td>\n",
       "      <td>0.103</td>\n",
       "      <td>0.001</td>\n",
       "      <td>12.267844</td>\n",
       "      <td>0.1</td>\n",
       "      <td>0.1</td>\n",
       "      <td>1.226791</td>\n",
       "    </tr>\n",
       "    <tr>\n",
       "      <th>1</th>\n",
       "      <td>1.50</td>\n",
       "      <td>150.5</td>\n",
       "      <td>7.4</td>\n",
       "      <td>0.074</td>\n",
       "      <td>0.001</td>\n",
       "      <td>8.178563</td>\n",
       "      <td>0.1</td>\n",
       "      <td>0.1</td>\n",
       "      <td>0.545244</td>\n",
       "    </tr>\n",
       "    <tr>\n",
       "      <th>2</th>\n",
       "      <td>2.00</td>\n",
       "      <td>150.0</td>\n",
       "      <td>5.7</td>\n",
       "      <td>0.057</td>\n",
       "      <td>0.001</td>\n",
       "      <td>6.123724</td>\n",
       "      <td>0.1</td>\n",
       "      <td>0.1</td>\n",
       "      <td>0.306193</td>\n",
       "    </tr>\n",
       "    <tr>\n",
       "      <th>3</th>\n",
       "      <td>2.50</td>\n",
       "      <td>150.3</td>\n",
       "      <td>4.8</td>\n",
       "      <td>0.048</td>\n",
       "      <td>0.001</td>\n",
       "      <td>4.903876</td>\n",
       "      <td>0.1</td>\n",
       "      <td>0.1</td>\n",
       "      <td>0.196162</td>\n",
       "    </tr>\n",
       "    <tr>\n",
       "      <th>4</th>\n",
       "      <td>3.00</td>\n",
       "      <td>150.3</td>\n",
       "      <td>4.2</td>\n",
       "      <td>0.042</td>\n",
       "      <td>0.001</td>\n",
       "      <td>4.086563</td>\n",
       "      <td>0.1</td>\n",
       "      <td>0.1</td>\n",
       "      <td>0.136226</td>\n",
       "    </tr>\n",
       "    <tr>\n",
       "      <th>5</th>\n",
       "      <td>1.00</td>\n",
       "      <td>200.7</td>\n",
       "      <td>13.5</td>\n",
       "      <td>0.135</td>\n",
       "      <td>0.001</td>\n",
       "      <td>14.166863</td>\n",
       "      <td>0.1</td>\n",
       "      <td>0.1</td>\n",
       "      <td>1.416691</td>\n",
       "    </tr>\n",
       "    <tr>\n",
       "      <th>6</th>\n",
       "      <td>1.50</td>\n",
       "      <td>200.0</td>\n",
       "      <td>8.5</td>\n",
       "      <td>0.085</td>\n",
       "      <td>0.001</td>\n",
       "      <td>9.428090</td>\n",
       "      <td>0.1</td>\n",
       "      <td>0.1</td>\n",
       "      <td>0.628544</td>\n",
       "    </tr>\n",
       "    <tr>\n",
       "      <th>7</th>\n",
       "      <td>2.00</td>\n",
       "      <td>200.0</td>\n",
       "      <td>6.5</td>\n",
       "      <td>0.065</td>\n",
       "      <td>0.001</td>\n",
       "      <td>7.071068</td>\n",
       "      <td>0.1</td>\n",
       "      <td>0.1</td>\n",
       "      <td>0.353558</td>\n",
       "    </tr>\n",
       "    <tr>\n",
       "      <th>8</th>\n",
       "      <td>2.50</td>\n",
       "      <td>200.5</td>\n",
       "      <td>5.4</td>\n",
       "      <td>0.054</td>\n",
       "      <td>0.001</td>\n",
       "      <td>5.663921</td>\n",
       "      <td>0.1</td>\n",
       "      <td>0.1</td>\n",
       "      <td>0.226561</td>\n",
       "    </tr>\n",
       "    <tr>\n",
       "      <th>9</th>\n",
       "      <td>3.00</td>\n",
       "      <td>200.5</td>\n",
       "      <td>4.5</td>\n",
       "      <td>0.045</td>\n",
       "      <td>0.001</td>\n",
       "      <td>4.719934</td>\n",
       "      <td>0.1</td>\n",
       "      <td>0.1</td>\n",
       "      <td>0.157336</td>\n",
       "    </tr>\n",
       "    <tr>\n",
       "      <th>10</th>\n",
       "      <td>1.50</td>\n",
       "      <td>250.5</td>\n",
       "      <td>9.5</td>\n",
       "      <td>0.095</td>\n",
       "      <td>0.001</td>\n",
       "      <td>10.551461</td>\n",
       "      <td>0.1</td>\n",
       "      <td>0.1</td>\n",
       "      <td>0.703434</td>\n",
       "    </tr>\n",
       "    <tr>\n",
       "      <th>11</th>\n",
       "      <td>2.00</td>\n",
       "      <td>250.6</td>\n",
       "      <td>7.2</td>\n",
       "      <td>0.072</td>\n",
       "      <td>0.001</td>\n",
       "      <td>7.915175</td>\n",
       "      <td>0.1</td>\n",
       "      <td>0.1</td>\n",
       "      <td>0.395762</td>\n",
       "    </tr>\n",
       "    <tr>\n",
       "      <th>12</th>\n",
       "      <td>2.50</td>\n",
       "      <td>250.6</td>\n",
       "      <td>6.0</td>\n",
       "      <td>0.060</td>\n",
       "      <td>0.001</td>\n",
       "      <td>6.332140</td>\n",
       "      <td>0.1</td>\n",
       "      <td>0.1</td>\n",
       "      <td>0.253289</td>\n",
       "    </tr>\n",
       "    <tr>\n",
       "      <th>13</th>\n",
       "      <td>3.00</td>\n",
       "      <td>250.6</td>\n",
       "      <td>5.0</td>\n",
       "      <td>0.050</td>\n",
       "      <td>0.001</td>\n",
       "      <td>5.276784</td>\n",
       "      <td>0.1</td>\n",
       "      <td>0.1</td>\n",
       "      <td>0.175896</td>\n",
       "    </tr>\n",
       "    <tr>\n",
       "      <th>14</th>\n",
       "      <td>1.50</td>\n",
       "      <td>300.2</td>\n",
       "      <td>9.9</td>\n",
       "      <td>0.099</td>\n",
       "      <td>0.001</td>\n",
       "      <td>11.550854</td>\n",
       "      <td>0.1</td>\n",
       "      <td>0.1</td>\n",
       "      <td>0.770059</td>\n",
       "    </tr>\n",
       "    <tr>\n",
       "      <th>15</th>\n",
       "      <td>2.00</td>\n",
       "      <td>300.2</td>\n",
       "      <td>7.8</td>\n",
       "      <td>0.078</td>\n",
       "      <td>0.001</td>\n",
       "      <td>8.663140</td>\n",
       "      <td>0.1</td>\n",
       "      <td>0.1</td>\n",
       "      <td>0.433159</td>\n",
       "    </tr>\n",
       "    <tr>\n",
       "      <th>16</th>\n",
       "      <td>2.50</td>\n",
       "      <td>300.2</td>\n",
       "      <td>6.2</td>\n",
       "      <td>0.062</td>\n",
       "      <td>0.001</td>\n",
       "      <td>6.930512</td>\n",
       "      <td>0.1</td>\n",
       "      <td>0.1</td>\n",
       "      <td>0.277223</td>\n",
       "    </tr>\n",
       "    <tr>\n",
       "      <th>17</th>\n",
       "      <td>3.00</td>\n",
       "      <td>300.2</td>\n",
       "      <td>5.3</td>\n",
       "      <td>0.053</td>\n",
       "      <td>0.001</td>\n",
       "      <td>5.775427</td>\n",
       "      <td>0.1</td>\n",
       "      <td>0.1</td>\n",
       "      <td>0.192517</td>\n",
       "    </tr>\n",
       "    <tr>\n",
       "      <th>18</th>\n",
       "      <td>1.02</td>\n",
       "      <td>226.0</td>\n",
       "      <td>13.0</td>\n",
       "      <td>0.130</td>\n",
       "      <td>0.001</td>\n",
       "      <td>14.738526</td>\n",
       "      <td>0.1</td>\n",
       "      <td>0.1</td>\n",
       "      <td>1.444957</td>\n",
       "    </tr>\n",
       "  </tbody>\n",
       "</table>\n",
       "</div>"
      ],
      "text/plain": [
       "    Current (A)  Voltage (V)  Diameter (cm)  Diameter (m)  D_Error (m)  \\\n",
       "0          1.00        150.5           10.3         0.103        0.001   \n",
       "1          1.50        150.5            7.4         0.074        0.001   \n",
       "2          2.00        150.0            5.7         0.057        0.001   \n",
       "3          2.50        150.3            4.8         0.048        0.001   \n",
       "4          3.00        150.3            4.2         0.042        0.001   \n",
       "5          1.00        200.7           13.5         0.135        0.001   \n",
       "6          1.50        200.0            8.5         0.085        0.001   \n",
       "7          2.00        200.0            6.5         0.065        0.001   \n",
       "8          2.50        200.5            5.4         0.054        0.001   \n",
       "9          3.00        200.5            4.5         0.045        0.001   \n",
       "10         1.50        250.5            9.5         0.095        0.001   \n",
       "11         2.00        250.6            7.2         0.072        0.001   \n",
       "12         2.50        250.6            6.0         0.060        0.001   \n",
       "13         3.00        250.6            5.0         0.050        0.001   \n",
       "14         1.50        300.2            9.9         0.099        0.001   \n",
       "15         2.00        300.2            7.8         0.078        0.001   \n",
       "16         2.50        300.2            6.2         0.062        0.001   \n",
       "17         3.00        300.2            5.3         0.053        0.001   \n",
       "18         1.02        226.0           13.0         0.130        0.001   \n",
       "\n",
       "    $\\sqrt{V}/I$  V_Error (V)  I_Error (A)  VI_Error  \n",
       "0      12.267844          0.1          0.1  1.226791  \n",
       "1       8.178563          0.1          0.1  0.545244  \n",
       "2       6.123724          0.1          0.1  0.306193  \n",
       "3       4.903876          0.1          0.1  0.196162  \n",
       "4       4.086563          0.1          0.1  0.136226  \n",
       "5      14.166863          0.1          0.1  1.416691  \n",
       "6       9.428090          0.1          0.1  0.628544  \n",
       "7       7.071068          0.1          0.1  0.353558  \n",
       "8       5.663921          0.1          0.1  0.226561  \n",
       "9       4.719934          0.1          0.1  0.157336  \n",
       "10     10.551461          0.1          0.1  0.703434  \n",
       "11      7.915175          0.1          0.1  0.395762  \n",
       "12      6.332140          0.1          0.1  0.253289  \n",
       "13      5.276784          0.1          0.1  0.175896  \n",
       "14     11.550854          0.1          0.1  0.770059  \n",
       "15      8.663140          0.1          0.1  0.433159  \n",
       "16      6.930512          0.1          0.1  0.277223  \n",
       "17      5.775427          0.1          0.1  0.192517  \n",
       "18     14.738526          0.1          0.1  1.444957  "
      ]
     },
     "execution_count": 5,
     "metadata": {},
     "output_type": "execute_result"
    }
   ],
   "source": [
    "# READING THE DATA FROM GOOGLE SHEETS ---------------------------------------\n",
    "googleSheetId = '1scQGL11UvFQby8DDEdlZumkBdU-vqa2ZZyCU8bGhbN8'\n",
    "workSheetName = 'Experiment'\n",
    "URL = 'https://docs.google.com/spreadsheets/d/{0}/gviz/tq?tqx=out:csv&sheet={1}'.format(\n",
    "    googleSheetId, workSheetName)\n",
    "df = pd.read_csv(URL)\n",
    "df\n",
    "https://docs.google.com/spreadsheets/d/17H9-jFJKk_K1OKo1Tb_DOF_XxemwUpaan1Le9xGHFqA/edit#gid=1681969290"
   ]
  },
  {
   "cell_type": "code",
   "execution_count": 6,
   "metadata": {},
   "outputs": [
    {
     "data": {
      "application/vnd.jupyter.widget-view+json": {
       "model_id": "29a75768248d48acb7d934b61cc8401c",
       "version_major": 2,
       "version_minor": 0
      },
      "text/plain": [
       "Dropdown(description='Y-axis', layout=Layout(width='max-content'), options=('Select Column', 'Current (A)', 'V…"
      ]
     },
     "metadata": {},
     "output_type": "display_data"
    },
    {
     "data": {
      "application/vnd.jupyter.widget-view+json": {
       "model_id": "64c2f37122a84d8cad349df02e72bd69",
       "version_major": 2,
       "version_minor": 0
      },
      "text/plain": [
       "Dropdown(description='X-axis', layout=Layout(width='max-content'), options=('Select Column', 'Current (A)', 'V…"
      ]
     },
     "metadata": {},
     "output_type": "display_data"
    },
    {
     "data": {
      "application/vnd.jupyter.widget-view+json": {
       "model_id": "3458c571c3114aaca720fa81b0d17dde",
       "version_major": 2,
       "version_minor": 0
      },
      "text/plain": [
       "Dropdown(description='Error_Y', layout=Layout(width='max-content'), options=('Select Column', 'Current (A)', '…"
      ]
     },
     "metadata": {},
     "output_type": "display_data"
    },
    {
     "data": {
      "application/vnd.jupyter.widget-view+json": {
       "model_id": "772088bde6744041b28904becaa6e0a7",
       "version_major": 2,
       "version_minor": 0
      },
      "text/plain": [
       "Dropdown(description='Error_X', layout=Layout(width='max-content'), options=('Select Column', 'Current (A)', '…"
      ]
     },
     "metadata": {},
     "output_type": "display_data"
    }
   ],
   "source": [
    "# DISPLAYING DROPDOWN MENU OF COLUMNS ---------------------------------------\n",
    "filenames = list(df.columns.values)\n",
    "filenames.insert(0, 'Select Column')\n",
    "drop_down_x = widgets.Dropdown(options=filenames,\n",
    "                                description='X-axis',\n",
    "                                disabled=False,\n",
    "                                layout={'width': 'max-content'})\n",
    "drop_down_y = widgets.Dropdown(options=filenames,\n",
    "                                description='Y-axis',\n",
    "                                disabled=False,\n",
    "                                layout={'width': 'max-content'})\n",
    "drop_down_error_y = widgets.Dropdown(options=filenames,\n",
    "                                description='Error_Y',\n",
    "                                disabled=False,\n",
    "                                layout={'width': 'max-content'})\n",
    "drop_down_error_x = widgets.Dropdown(options=filenames,\n",
    "                                description='Error_X',\n",
    "                                disabled=False,\n",
    "                                layout={'width': 'max-content'})\n",
    "display(drop_down_y, drop_down_x, drop_down_error_y, drop_down_error_x)"
   ]
  },
  {
   "cell_type": "code",
   "execution_count": 23,
   "metadata": {},
   "outputs": [
    {
     "data": {
      "image/png": "[encoded data removed]",
      "text/plain": [
       "<Figure size 400x400 with 1 Axes>"
      ]
     },
     "metadata": {
      "needs_background": "light"
     },
     "output_type": "display_data"
    }
   ],
   "source": [
    "# FITTING THE DATA USING A LINEAR RELATIONSHIP WITH UNCERTAINTY IN Y ---------------------------------------\n",
    "xdata, ydata, error_y, error_x = df[drop_down_x.value], df[drop_down_y.value], df[drop_down_error_y.value], df[drop_down_error_x.value]\n",
    "parameters, covariance = opt.curve_fit(proportionality, xdata, ydata, sigma = error_y)\n",
    "perr = np.sqrt(np.diag(covariance))\n",
    "\n",
    "#Calculate the error on the fits from the covariacne matrix\n",
    "slope = parameters[0]\n",
    "slope_error = perr[0]\n",
    "\n",
    "if parameters.shape[0] > 1: \n",
    "    b = parameters[1] \n",
    "    b_error = perr[1]\n",
    "else:\n",
    "    b = 0\n",
    "    b_error = 0\n",
    "\n",
    "# PLOTTING THE DATA ---------------------------------------\n",
    "title = r'$\\textbf{' + drop_down_y.value + ' vs ' + drop_down_x.value + '}$'\n",
    "LinearPlot(xdata,ydata,error_y,error_x,slope,b,title,proportionality,'green',drop_down_x.value,drop_down_y.value)"
   ]
  },
  {
   "cell_type": "code",
   "execution_count": 8,
   "metadata": {},
   "outputs": [
    {
     "name": "stdout",
     "output_type": "stream",
     "text": [
      "slope_error = 9.2367e-05\n",
      "b_error = 0.0000e+00\n"
     ]
    }
   ],
   "source": [
    "print('slope_error = ' + \"{:.4e}\".format(slope_error))\n",
    "print('b_error = ' + \"{:.4e}\".format(b_error))"
   ]
  },
  {
   "cell_type": "code",
   "execution_count": 27,
   "metadata": {},
   "outputs": [
    {
     "data": {
      "image/png": "[encoded data removed]",
      "text/plain": [
       "<Figure size 400x400 with 1 Axes>"
      ]
     },
     "metadata": {
      "needs_background": "light"
     },
     "output_type": "display_data"
    }
   ],
   "source": [
    "# LINEAR REGRESSION USSING UNCERTAINTY IN X AND Y\n",
    "from scipy.odr import ODR, Model, Data, RealData\n",
    "model = Model(linearODR)\n",
    "\n",
    "data = RealData(xdata, ydata, error_x, error_y)\n",
    "odr = ODR(data, model, [1,0])\n",
    "odr.set_job(fit_type=2)\n",
    "output = odr.run()\n",
    "a,b = output.beta[0], output.beta[1]\n",
    "\n",
    "#Calculate the error on the fits from the std matrix\n",
    "slope = output.beta[0]\n",
    "slope_error = output.sd_beta[0]\n",
    "\n",
    "#plt.plot(xdata, linearPlot(output.beta, xdata))\n",
    "LinearPlotODR(xdata, ydata, error_y, error_x, a,b, title, linearODR, output,'green',drop_down_x.value,drop_down_y.value)"
   ]
  },
  {
   "cell_type": "code",
   "execution_count": 10,
   "metadata": {},
   "outputs": [
    {
     "name": "stdout",
     "output_type": "stream",
     "text": [
      "slope_error = 2.2810e-04\n"
     ]
    }
   ],
   "source": [
    "print('slope_error = ' + \"{:.4e}\".format(slope_error))"
   ]
  },
  {
   "cell_type": "markdown",
   "metadata": {},
   "source": [
    "## DETERMING CONSTANT $C$ ------------------"
   ]
  },
  {
   "cell_type": "code",
   "execution_count": 24,
   "metadata": {},
   "outputs": [],
   "source": [
    "# EXPERIMENTAL DETAILS\n",
    "from scipy.constants import mu_0\n",
    "N = 130 # Number of turns per coil\n",
    "R_0 = 0.15 # Separation between coils (m)\n",
    "A_exp = 0.0008525779649118258 # From PreLab\n",
    "A_error = 3.533144298959403e-06"
   ]
  },
  {
   "cell_type": "code",
   "execution_count": 25,
   "metadata": {},
   "outputs": [
    {
     "name": "stdout",
     "output_type": "stream",
     "text": [
      "C =  3317.4996787991213  ±  13.747956854785688 A/T\n",
      "C_theorical =  3629.5104863285364\n",
      "C % error =  8.596498307545392 %\n"
     ]
    }
   ],
   "source": [
    "C = 2*np.sqrt(2)/A_exp\n",
    "C_error = (2*np.sqrt(2)/A_exp**2)*A_error\n",
    "C_theor = (2*np.sqrt(2)/(mu_0*N))*((5/4)**(3/2))*R_0\n",
    "porc_error = 100*abs(C-C_theor)/C_theor\n",
    "print(\"C = \", C, \" ± \", C_error, \"A/T\")\n",
    "print(\"C_theorical = \", C_theor)\n",
    "print(\"C % error = \", porc_error, \"%\")"
   ]
  },
  {
   "cell_type": "markdown",
   "metadata": {},
   "source": [
    "## DETERMING RATIO $e/m$ ------------------"
   ]
  },
  {
   "cell_type": "code",
   "execution_count": 13,
   "metadata": {},
   "outputs": [],
   "source": [
    "from scipy.constants import e, m_e"
   ]
  },
  {
   "cell_type": "code",
   "execution_count": 26,
   "metadata": {},
   "outputs": [
    {
     "name": "stdout",
     "output_type": "stream",
     "text": [
      "Theoretical e/m ratio: 1.7588e+11 C/kg\n",
      "Experimental e/m ratio: 1.3470e+11 ± 1.1164e+09 C/kg\n",
      "Percentage error:  23.416176522052613 %\n"
     ]
    }
   ],
   "source": [
    "# DETERMING THE THEORETICAL SLOPE USING PROPORTIONAL REGRESSION WITH Y UNCERTAINTY\n",
    "C = 2*np.sqrt(2)/A_exp\n",
    "em_ratio_exp = (slope/C)**(-2)\n",
    "units = 'C/kg'\n",
    "em_ratio_theor = e/m_e\n",
    "exp_error = np.sqrt((2*slope**(-3)/C*slope_error)**2 + (2*slope**(-2)*C*C_error)**2)\n",
    "print('Theoretical e/m ratio: ' + \"{:.4e}\".format(em_ratio_theor) + ' ' + units)\n",
    "print('Experimental e/m ratio: ' + \"{:.4e}\".format(em_ratio_exp) + ' ± ' + \"{:.4e}\".format(exp_error) + ' ' + units)\n",
    "\n",
    "# DETERMING THE %ERROR\n",
    "error = abs((em_ratio_exp-em_ratio_theor)/em_ratio_theor)*100\n",
    "print(\"Percentage error: \", error, \"%\")"
   ]
  },
  {
   "cell_type": "code",
   "execution_count": 29,
   "metadata": {},
   "outputs": [
    {
     "name": "stdout",
     "output_type": "stream",
     "text": [
      "Theoretical e/m ratio: 1.7588e+11 C/kg\n",
      "Experimental e/m ratio: 1.5167e+11 ± 1.2570e+09 C/kg\n",
      "Percentage error:  13.768238084595916 %\n"
     ]
    }
   ],
   "source": [
    "# DETERMING THE THEORETICAL SLOPE USING LINEAR REGRESSION WITH X AND Y UNCERTAINTY\n",
    "C = 2*np.sqrt(2)/A_exp\n",
    "em_ratio_exp = (slope/C)**(-2)\n",
    "units = 'C/kg'\n",
    "em_ratio_theor = e/m_e\n",
    "exp_error = np.sqrt((2*slope**(-3)/C*slope_error)**2 + (2*slope**(-2)*C*C_error)**2)\n",
    "print('Theoretical e/m ratio: ' + \"{:.4e}\".format(em_ratio_theor) + ' ' + units)\n",
    "print('Experimental e/m ratio: ' + \"{:.4e}\".format(em_ratio_exp) + ' ± ' + \"{:.4e}\".format(exp_error) + ' ' + units)\n",
    "\n",
    "# DETERMING THE %ERROR\n",
    "error = abs((em_ratio_exp-em_ratio_theor)/em_ratio_theor)*100\n",
    "print(\"Percentage error: \", error, \"%\")"
   ]
  },
  {
   "cell_type": "code",
   "execution_count": null,
   "metadata": {},
   "outputs": [],
   "source": []
  }
 ],
 "metadata": {
  "kernelspec": {
   "display_name": "Python 3",
   "language": "python",
   "name": "python3"
  },
  "language_info": {
   "codemirror_mode": {
    "name": "ipython",
    "version": 3
   },
   "file_extension": ".py",
   "mimetype": "text/x-python",
   "name": "python",
   "nbconvert_exporter": "python",
   "pygments_lexer": "ipython3",
   "version": "3.8.8"
  }
 },
 "nbformat": 4,
 "nbformat_minor": 4
}
