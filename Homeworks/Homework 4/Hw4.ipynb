{
 "cells": [
  {
   "cell_type": "code",
   "execution_count": 1,
   "metadata": {},
   "outputs": [],
   "source": [
    "# IMPORTING REQUIRED PACKAGES AND CONSTANTS\n",
    "import numpy as np"
   ]
  },
  {
   "cell_type": "markdown",
   "metadata": {},
   "source": [
    "## **Problem 3.2** --------------------------------------------------"
   ]
  },
  {
   "cell_type": "code",
   "execution_count": 52,
   "metadata": {},
   "outputs": [
    {
     "name": "stdout",
     "output_type": "stream",
     "text": [
      "Backward:  1037  ±  32.202484376209235\n",
      "Forward:  998  ±  31.591137997862628\n"
     ]
    }
   ],
   "source": [
    "# Determining the uncertainties considering counting events\n",
    "avg_back, avg_forw = 1037, 998\n",
    "sigma_back, sigma_forw = np.sqrt(avg_back), np.sqrt(avg_forw)\n",
    "print(\"Backward: \", avg_back, \" ± \", sigma_back)\n",
    "print(\"Forward: \", avg_forw, \" ± \", sigma_forw)"
   ]
  },
  {
   "cell_type": "markdown",
   "metadata": {},
   "source": [
    "a)"
   ]
  },
  {
   "cell_type": "markdown",
   "metadata": {},
   "source": [
    "Particles ejected in the backward direction: $1040 \\pm 30$ particles."
   ]
  },
  {
   "cell_type": "markdown",
   "metadata": {},
   "source": [
    "Particles ejected in the forward direction: $1000 \\pm 30$ particles"
   ]
  },
  {
   "cell_type": "markdown",
   "metadata": {},
   "source": [
    "b)"
   ]
  },
  {
   "cell_type": "markdown",
   "metadata": {},
   "source": [
    "These results do not generate doubts about the validity of the theory, because their margin of errors intersect."
   ]
  },
  {
   "cell_type": "markdown",
   "metadata": {},
   "source": [
    "## **Problem 7.2** --------------------------------------------------"
   ]
  },
  {
   "cell_type": "code",
   "execution_count": 53,
   "metadata": {},
   "outputs": [],
   "source": [
    "# DEFINING A FUNCTION THAT RETURNS THE WEIGHTED AVERAGE AND UNCERTAINTY\n",
    "def weighted_error(values, deltas):\n",
    "    values, deltas = np.array(values), np.array(deltas)\n",
    "    weight_matrix = []\n",
    "    for delta in deltas:\n",
    "        weight_matrix.append(1/delta**2)\n",
    "    weight_matrix = np.array(weight_matrix)\n",
    "    x_best = np.dot(values,weight_matrix)/weight_matrix.sum()\n",
    "    uncertainty = 1/np.sqrt(weight_matrix.sum())\n",
    "    return x_best, uncertainty"
   ]
  },
  {
   "cell_type": "code",
   "execution_count": 54,
   "metadata": {},
   "outputs": [
    {
     "name": "stdout",
     "output_type": "stream",
     "text": [
      "m = ( 1968.0995112414469  ±  0.7737759544994183 ) MeV/c^2\n"
     ]
    }
   ],
   "source": [
    "# Calculating the weighted average and uncertainty for the measurement of the mass of the elementary particle\n",
    "m, m_uncertainty = weighted_error([1967.0,1969.0,1972.1],[1.0,1.4,2.5])\n",
    "print(\"m = (\",m, \" ± \", m_uncertainty, \") MeV/c^2\")"
   ]
  },
  {
   "cell_type": "markdown",
   "metadata": {},
   "source": [
    "The weighted average with uncertainty is: $\\boxed{m = 1968.1 \\pm 0.8 \\ MeV/c^2}$"
   ]
  },
  {
   "cell_type": "markdown",
   "metadata": {},
   "source": [
    "## **Problem 7.6** --------------------------------------------------"
   ]
  },
  {
   "cell_type": "code",
   "execution_count": 55,
   "metadata": {},
   "outputs": [
    {
     "name": "stdout",
     "output_type": "stream",
     "text": [
      "4 hour observation:  412  ±  20.29778313018444\n",
      "6 hour observation:  576  ±  24.0\n"
     ]
    }
   ],
   "source": [
    "# Determining the uncertainties considering counting (decays) events\n",
    "obs_4, obs_6 = 412, 576\n",
    "sigma_4, sigma_6 = np.sqrt(obs_4), np.sqrt(obs_6)\n",
    "print(\"4 hour observation: \", obs_4, \" ± \", sigma_4)\n",
    "print(\"6 hour observation: \", obs_6, \" ± \", sigma_6)"
   ]
  },
  {
   "cell_type": "markdown",
   "metadata": {},
   "source": [
    "a)"
   ]
  },
  {
   "cell_type": "markdown",
   "metadata": {},
   "source": [
    "The uncertainty in the 4-hour observation is: 20.3 decays."
   ]
  },
  {
   "cell_type": "markdown",
   "metadata": {},
   "source": [
    "The uncertainty in the 6-hour observation is: 24.0 decays."
   ]
  },
  {
   "cell_type": "markdown",
   "metadata": {},
   "source": [
    "b)"
   ]
  },
  {
   "cell_type": "code",
   "execution_count": 56,
   "metadata": {},
   "outputs": [
    {
     "name": "stdout",
     "output_type": "stream",
     "text": [
      "Physicist 1:  103.0  ±  5.07444578254611\n",
      "Physicist 2:  96.0  ±  4.0\n"
     ]
    }
   ],
   "source": [
    "# Determining the uncertainties considering counting (decays) events\n",
    "p1, p2 = obs_4/4, obs_6/6\n",
    "sigma_p1, sigma_p2 = sigma_4/4, sigma_6/6\n",
    "print(\"Physicist 1: \", p1, \" ± \", sigma_p1)\n",
    "print(\"Physicist 2: \", p2, \" ± \", sigma_p2)"
   ]
  },
  {
   "cell_type": "markdown",
   "metadata": {},
   "source": [
    "Physicist 1 reports: $105 \\pm 5$ decays. "
   ]
  },
  {
   "cell_type": "markdown",
   "metadata": {},
   "source": [
    "Physicist 2 reports: $100 \\pm 4$ decays. "
   ]
  },
  {
   "cell_type": "markdown",
   "metadata": {},
   "source": [
    "c)"
   ]
  },
  {
   "cell_type": "code",
   "execution_count": 57,
   "metadata": {},
   "outputs": [
    {
     "name": "stdout",
     "output_type": "stream",
     "text": [
      "( 98.68263473053892  ±  3.1413792310152386 ) decays\n"
     ]
    }
   ],
   "source": [
    "# Calculating the weighted average and uncertainty \n",
    "d, d_uncertainty = weighted_error([p1,p2],[sigma_p1,sigma_p2])\n",
    "print(\"(\",d, \" ± \", d_uncertainty, \") decays\")"
   ]
  },
  {
   "cell_type": "markdown",
   "metadata": {},
   "source": [
    "The weighted average for the hourly decay rate is: $100 \\pm 3$ decays."
   ]
  }
 ],
 "metadata": {
  "kernelspec": {
   "display_name": "Python 3",
   "language": "python",
   "name": "python3"
  },
  "language_info": {
   "codemirror_mode": {
    "name": "ipython",
    "version": 3
   },
   "file_extension": ".py",
   "mimetype": "text/x-python",
   "name": "python",
   "nbconvert_exporter": "python",
   "pygments_lexer": "ipython3",
   "version": "3.8.5"
  }
 },
 "nbformat": 4,
 "nbformat_minor": 4
}
