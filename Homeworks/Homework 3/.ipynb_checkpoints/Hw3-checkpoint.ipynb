{
 "cells": [
  {
   "cell_type": "markdown",
   "metadata": {},
   "source": [
    "## **PROBLEM 01 ------------------------------------------------------------------**"
   ]
  },
  {
   "cell_type": "code",
   "execution_count": 119,
   "metadata": {},
   "outputs": [],
   "source": [
    "# IMPORTING REQUIRED PACKAGES AND CONSTANTS\n",
    "import numpy as np\n",
    "from scipy.constants import pi "
   ]
  },
  {
   "cell_type": "code",
   "execution_count": 120,
   "metadata": {},
   "outputs": [],
   "source": [
    "# DEFINING AREA FUNCTION (There's a reason for using an array input of parameters, it's in exercise 2)\n",
    "surface_area = lambda parameters : 4*pi*parameters[0]**2\n",
    "\n",
    "# DEFINING INITIAL PARAMETERS\n",
    "r_val, r_uncert = 0.310, 0.001"
   ]
  },
  {
   "cell_type": "markdown",
   "metadata": {},
   "source": [
    "### *Error propagation method*"
   ]
  },
  {
   "cell_type": "markdown",
   "metadata": {},
   "source": [
    "The uncertainty in the measeurement of the surface area S is determined by:"
   ]
  },
  {
   "cell_type": "markdown",
   "metadata": {},
   "source": [
    "$$\\delta S = \\left | \\frac{\\partial S}{\\partial r}\\delta r \\right | = 8\\pi r \\delta r$$"
   ]
  },
  {
   "cell_type": "code",
   "execution_count": 121,
   "metadata": {},
   "outputs": [
    {
     "name": "stdout",
     "output_type": "stream",
     "text": [
      "S =  1.2076282160399165  m2 , ΔS =  0.007791149780902688  m2\n"
     ]
    }
   ],
   "source": [
    "# DETERMININIG THE VALUE OF THE SURFACE AREA WITH UNCERTAINTY\n",
    "S = surface_area([r_val])\n",
    "delta_S = 8*pi*r_val*r_uncert\n",
    "print('S = ', S, ' m2 , ΔS = ', delta_S, ' m2')"
   ]
  },
  {
   "cell_type": "markdown",
   "metadata": {},
   "source": [
    "Finally:"
   ]
  },
  {
   "cell_type": "markdown",
   "metadata": {},
   "source": [
    "$\\boxed{S = (1000 \\pm 8) \\times 10^{-3} \\ m^2}$"
   ]
  },
  {
   "cell_type": "markdown",
   "metadata": {},
   "source": [
    "### *Variational method*"
   ]
  },
  {
   "cell_type": "code",
   "execution_count": 122,
   "metadata": {},
   "outputs": [
    {
     "name": "stdout",
     "output_type": "stream",
     "text": [
      "S =  1.2076282160399165  m2 , ΔS =  0.007791149780902673  m2\n"
     ]
    }
   ],
   "source": [
    "delta_up = abs(surface_area([r_val+r_uncert]) - surface_area([r_val]))\n",
    "delta_down = abs(surface_area([r_val-r_uncert]) - surface_area([r_val]))\n",
    "delta_S = 0.5*(delta_up + delta_down)\n",
    "print('S = ', S, ' m2 , ΔS = ', delta_S, ' m2')"
   ]
  },
  {
   "cell_type": "markdown",
   "metadata": {},
   "source": [
    "Finally:"
   ]
  },
  {
   "cell_type": "markdown",
   "metadata": {},
   "source": [
    "$\\boxed{S = (1000 \\pm 8) \\times 10^{-3} \\ m^2}$"
   ]
  },
  {
   "cell_type": "markdown",
   "metadata": {},
   "source": [
    "As we can see, the values for the uncertainty in the measurement of S varies slightly within each method. However, for our\n",
    "reporting purposes it remains intact."
   ]
  },
  {
   "cell_type": "markdown",
   "metadata": {},
   "source": [
    "## **PROBLEM 02 ------------------------------------------------------------------**"
   ]
  },
  {
   "cell_type": "code",
   "execution_count": 123,
   "metadata": {},
   "outputs": [],
   "source": [
    "# DEFINING A FUNCTION THAT RETURNS THE UNCERTAINTY USING VARIATIONAL METHOD (Each function must receive a parameters array)\n",
    "def uncertainty_var(values, deltas, function):\n",
    "    values, deltas = np.array(values), np.array(deltas)\n",
    "    delta_matrix = deltas*np.identity(values.shape[0])\n",
    "    sum = 0\n",
    "    for delta in delta_matrix:\n",
    "        #sum += (0.5*(abs(function(val+delta) - function(val)) + abs(function(val-delta) - function(val))))**2\n",
    "        sum += (0.5*(abs(function(values + delta) - function(values)) + abs(function(values-delta) - function(values))))**2\n",
    "    return np.sqrt(sum)"
   ]
  },
  {
   "cell_type": "code",
   "execution_count": 124,
   "metadata": {},
   "outputs": [
    {
     "name": "stdout",
     "output_type": "stream",
     "text": [
      "0.007791149780902673\n",
      "Works!\n"
     ]
    }
   ],
   "source": [
    "# TESTING THE FUNCTION ABOVE WITH PROBLEM 1 DATA\n",
    "print(uncertainty_var([r_val],[r_uncert],surface_area))\n",
    "print('Works!')"
   ]
  },
  {
   "cell_type": "code",
   "execution_count": 125,
   "metadata": {},
   "outputs": [],
   "source": [
    "# DEFINING q FUNCTION\n",
    "q = lambda parameters : parameters[0]*parameters[1]**2 + parameters[0]**2\n",
    "\n",
    "# DEFINING INITIAL PARAMETERS\n",
    "x, x_uncert = 8.0, 0.2\n",
    "y, y_uncert = 4.0, 0.1"
   ]
  },
  {
   "cell_type": "markdown",
   "metadata": {},
   "source": [
    "### *Error propagation method*"
   ]
  },
  {
   "cell_type": "markdown",
   "metadata": {},
   "source": [
    "The uncertainty in the measeurement of q is determined by:"
   ]
  },
  {
   "cell_type": "markdown",
   "metadata": {},
   "source": [
    "$$\\delta q = \\sqrt{\\left ( \\frac{\\partial q}{\\partial x}\\delta x \\right )^2 + \\left ( \\frac{\\partial q}{\\partial y}\\delta y \\right )^2} = \\sqrt{\\left [ (y^2 + 2x)\\delta x \\right ]^2 + \\left ( 2xy\\delta y \\right )^2}$$"
   ]
  },
  {
   "cell_type": "code",
   "execution_count": 126,
   "metadata": {},
   "outputs": [
    {
     "name": "stdout",
     "output_type": "stream",
     "text": [
      "q =  192.0  , Δq =  9.05096679918781\n"
     ]
    }
   ],
   "source": [
    "# DETERMININIG THE VALUE OF q WITH UNCERTAINTY\n",
    "q_val = q([x,y])\n",
    "delta_q = np.sqrt(((y**2 + 2*x)*x_uncert)**2 + (2*x*y*y_uncert)**2)\n",
    "print('q = ', q_val, ' , Δq = ', delta_q)"
   ]
  },
  {
   "cell_type": "markdown",
   "metadata": {},
   "source": [
    "Finally"
   ]
  },
  {
   "cell_type": "markdown",
   "metadata": {},
   "source": [
    "$\\boxed{q = 200 \\pm 9}$"
   ]
  },
  {
   "cell_type": "markdown",
   "metadata": {},
   "source": [
    "### *Variational method*"
   ]
  },
  {
   "cell_type": "code",
   "execution_count": 127,
   "metadata": {},
   "outputs": [
    {
     "name": "stdout",
     "output_type": "stream",
     "text": [
      "q =  192.0  , Δq =  9.050966799187806\n"
     ]
    }
   ],
   "source": [
    "delta_q = uncertainty_var([x,y], [x_uncert,y_uncert], q)\n",
    "print('q = ', q_val, ' , Δq = ', delta_q)"
   ]
  },
  {
   "cell_type": "markdown",
   "metadata": {},
   "source": [
    "Finally"
   ]
  },
  {
   "cell_type": "markdown",
   "metadata": {},
   "source": [
    "$\\boxed{q = 200 \\pm 9}$"
   ]
  },
  {
   "cell_type": "markdown",
   "metadata": {},
   "source": [
    "As we can see, the values for the uncertainty in the measurement of S varies slightly within each method. However, for our\n",
    "reporting purposes it remains intact."
   ]
  }
 ],
 "metadata": {
  "kernelspec": {
   "display_name": "Python 3",
   "language": "python",
   "name": "python3"
  },
  "language_info": {
   "codemirror_mode": {
    "name": "ipython",
    "version": 3
   },
   "file_extension": ".py",
   "mimetype": "text/x-python",
   "name": "python",
   "nbconvert_exporter": "python",
   "pygments_lexer": "ipython3",
   "version": "3.8.5"
  }
 },
 "nbformat": 4,
 "nbformat_minor": 4
}
