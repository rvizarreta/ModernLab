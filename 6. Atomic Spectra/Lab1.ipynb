{
 "cells": [
  {
   "cell_type": "code",
   "execution_count": 1,
   "id": "f1d9a074-4083-4151-b542-60e6f210b4da",
   "metadata": {},
   "outputs": [],
   "source": [
    "# DEFINING REQUIRED PACKAGES ---------------------------------------\n",
    "import matplotlib.pyplot as plt #import matplotlib to create plots\n",
    "import scipy.optimize as opt; #allows for curve fitting\n",
    "from scipy.odr import *\n",
    "import pandas as pd #importing pandas to use dataframes\n",
    "import numpy as np\n",
    "from scipy.constants import g, pi\n",
    "plt.style.reload_library()\n",
    "plt.style.use(['science', 'grid'])\n",
    "from scipy.odr import ODR, Model, Data, RealData\n",
    "from scipy.optimize import curve_fit\n",
    "import ipywidgets as widgets\n",
    "from mpl_toolkits.axes_grid1.inset_locator import inset_axes\n",
    "from mpl_toolkits.axes_grid1.inset_locator import mark_inset"
   ]
  },
  {
   "cell_type": "code",
   "execution_count": 2,
   "id": "4d72e3fb-2fa3-44dd-b355-0aa0600b7512",
   "metadata": {},
   "outputs": [],
   "source": [
    "# FITTING FUNCTIONS\n",
    "def linearODR(B,x):\n",
    "    return B[0]*x \n",
    "    \n",
    "def wavelength(param): # [d, m, theta]\n",
    "    return (param[0]/param[1])*np.sin(param[2])\n",
    "\n",
    "def lambda_inverse(param): # [lambda]\n",
    "    return 1/param[0]\n",
    "\n",
    "# DEFINING A FUNCTION THAT RETURNS THE UNCERTAINTY USING VARIATIONAL METHOD\n",
    "def uncertainty_var(values, deltas, function):\n",
    "    values, deltas = np.array(values), np.array(deltas)\n",
    "    delta_matrix = deltas*np.identity(values.shape[0])\n",
    "    sum = 0\n",
    "    for delta in delta_matrix:\n",
    "        sum += (0.5*(abs(function(values + delta) - function(values)) + abs(function(values-delta) - function(values))))**2\n",
    "    return np.sqrt(sum)\n",
    "\n",
    "def LinearPlot(xdata,ydata,error,a,b,title,function,x_label,y_label,color):\n",
    "    fig = plt.figure(figsize=(5, 5), dpi=80)\n",
    "    plt.errorbar(xdata,ydata,yerr=error,capsize = 5,marker = 'o',markersize=4, linestyle = 'None',color='black')\n",
    "    if b==0:\n",
    "        label = r'$\\textit{Y = ' + str(\"{:.2e}\".format(a)) + 'X}$'\n",
    "    else:\n",
    "        label = r'$\\textit{Y = ' + str(\"{:.2e}\".format(a)) + 'X + ' + str(\"{:.2e}\".format(b)) + '}$'\n",
    "    plt.plot(xdata,function(xdata,*parameters),label = label, color=color)\n",
    "    plt.legend(loc = 'upper left')\n",
    "    plt.xlabel(r'$\\textit{'+ x_label +'}$', fontsize = 16)\n",
    "    plt.ylabel(r'$\\textit{'+ y_label +'}$', fontsize = 16)\n",
    "    #plt.xticks(np.arange(min(xdata), max(xdata), (max(xdata)-min(xdata))/5))\n",
    "    plt.ticklabel_format(axis=\"y\", style=\"sci\", scilimits=(0,0))\n",
    "    plt.ticklabel_format(axis=\"x\", style=\"sci\", scilimits=(0,0))\n",
    "    plt.legend(prop={'size': 12}, loc=1)\n",
    "    plt.xticks(fontsize=15)\n",
    "    plt.yticks(fontsize=15)\n",
    "    plt.savefig(\"Figures/figure.png\")\n",
    "    \n",
    "def linear(x,a,b):\n",
    "    return a*x + b\n",
    "\n",
    "def average_angle(param): # [angle1, angle2]\n",
    "    return (np.pi/180)*abs(param[0]-param[1])/2"
   ]
  },
  {
   "cell_type": "code",
   "execution_count": 3,
   "id": "2b48cda2-ad1c-4233-9c1e-ac2aa0edeb80",
   "metadata": {},
   "outputs": [
    {
     "data": {
      "text/html": [
       "<div>\n",
       "<style scoped>\n",
       "    .dataframe tbody tr th:only-of-type {\n",
       "        vertical-align: middle;\n",
       "    }\n",
       "\n",
       "    .dataframe tbody tr th {\n",
       "        vertical-align: top;\n",
       "    }\n",
       "\n",
       "    .dataframe thead th {\n",
       "        text-align: right;\n",
       "    }\n",
       "</style>\n",
       "<table border=\"1\" class=\"dataframe\">\n",
       "  <thead>\n",
       "    <tr style=\"text-align: right;\">\n",
       "      <th></th>\n",
       "      <th>Order Maxima</th>\n",
       "      <th>Line color</th>\n",
       "      <th>Left (°)</th>\n",
       "      <th>Right (°)</th>\n",
       "      <th>Average Angle (°)</th>\n",
       "      <th>Angle (Rad)</th>\n",
       "      <th>Uncertainty (°)</th>\n",
       "      <th>Uncertainty (Rad)</th>\n",
       "      <th>m</th>\n",
       "      <th>Lambda (m)</th>\n",
       "      <th>Energy level n</th>\n",
       "      <th>$1/\\lambda \\ (m^{-1})$</th>\n",
       "      <th>$1/n^2$</th>\n",
       "    </tr>\n",
       "  </thead>\n",
       "  <tbody>\n",
       "    <tr>\n",
       "      <th>0</th>\n",
       "      <td>First</td>\n",
       "      <td>Red</td>\n",
       "      <td>156.566667</td>\n",
       "      <td>203.233333</td>\n",
       "      <td>23.333333</td>\n",
       "      <td>0.407243</td>\n",
       "      <td>0.016667</td>\n",
       "      <td>0.000291</td>\n",
       "      <td>1</td>\n",
       "      <td>6.601329e-07</td>\n",
       "      <td>3</td>\n",
       "      <td>1514846.381</td>\n",
       "      <td>0.111111</td>\n",
       "    </tr>\n",
       "    <tr>\n",
       "      <th>1</th>\n",
       "      <td>Second</td>\n",
       "      <td>Red</td>\n",
       "      <td>NaN</td>\n",
       "      <td>230.733333</td>\n",
       "      <td>50.733333</td>\n",
       "      <td>0.885464</td>\n",
       "      <td>0.016667</td>\n",
       "      <td>0.000291</td>\n",
       "      <td>2</td>\n",
       "      <td>6.451738e-07</td>\n",
       "      <td>3</td>\n",
       "      <td>1549969.936</td>\n",
       "      <td>0.111111</td>\n",
       "    </tr>\n",
       "    <tr>\n",
       "      <th>2</th>\n",
       "      <td>First</td>\n",
       "      <td>Blue-Green</td>\n",
       "      <td>163.000000</td>\n",
       "      <td>197.233333</td>\n",
       "      <td>17.116667</td>\n",
       "      <td>0.298742</td>\n",
       "      <td>0.016667</td>\n",
       "      <td>0.000291</td>\n",
       "      <td>1</td>\n",
       "      <td>4.905306e-07</td>\n",
       "      <td>4</td>\n",
       "      <td>2038608.931</td>\n",
       "      <td>0.062500</td>\n",
       "    </tr>\n",
       "    <tr>\n",
       "      <th>3</th>\n",
       "      <td>Second</td>\n",
       "      <td>Blue-Green</td>\n",
       "      <td>143.500000</td>\n",
       "      <td>215.416667</td>\n",
       "      <td>35.958333</td>\n",
       "      <td>0.627591</td>\n",
       "      <td>0.016667</td>\n",
       "      <td>0.000291</td>\n",
       "      <td>2</td>\n",
       "      <td>4.893306e-07</td>\n",
       "      <td>4</td>\n",
       "      <td>2043607.995</td>\n",
       "      <td>0.062500</td>\n",
       "    </tr>\n",
       "    <tr>\n",
       "      <th>4</th>\n",
       "      <td>Third</td>\n",
       "      <td>Blue-Green</td>\n",
       "      <td>114.150000</td>\n",
       "      <td>238.816667</td>\n",
       "      <td>62.333333</td>\n",
       "      <td>1.087922</td>\n",
       "      <td>0.016667</td>\n",
       "      <td>0.000291</td>\n",
       "      <td>3</td>\n",
       "      <td>4.920355e-07</td>\n",
       "      <td>4</td>\n",
       "      <td>2032373.657</td>\n",
       "      <td>0.062500</td>\n",
       "    </tr>\n",
       "    <tr>\n",
       "      <th>5</th>\n",
       "      <td>First</td>\n",
       "      <td>Blue-Violet</td>\n",
       "      <td>164.883333</td>\n",
       "      <td>195.250000</td>\n",
       "      <td>15.183333</td>\n",
       "      <td>0.264999</td>\n",
       "      <td>0.016667</td>\n",
       "      <td>0.000291</td>\n",
       "      <td>1</td>\n",
       "      <td>4.365141e-07</td>\n",
       "      <td>5</td>\n",
       "      <td>2290876.782</td>\n",
       "      <td>0.040000</td>\n",
       "    </tr>\n",
       "    <tr>\n",
       "      <th>6</th>\n",
       "      <td>Second</td>\n",
       "      <td>Blue-Violet</td>\n",
       "      <td>148.000000</td>\n",
       "      <td>211.233333</td>\n",
       "      <td>31.616667</td>\n",
       "      <td>0.551815</td>\n",
       "      <td>0.016667</td>\n",
       "      <td>0.000291</td>\n",
       "      <td>2</td>\n",
       "      <td>4.368614e-07</td>\n",
       "      <td>5</td>\n",
       "      <td>2289055.692</td>\n",
       "      <td>0.040000</td>\n",
       "    </tr>\n",
       "    <tr>\n",
       "      <th>7</th>\n",
       "      <td>First</td>\n",
       "      <td>Violet</td>\n",
       "      <td>165.750000</td>\n",
       "      <td>194.400000</td>\n",
       "      <td>14.325000</td>\n",
       "      <td>0.250018</td>\n",
       "      <td>0.016667</td>\n",
       "      <td>0.000291</td>\n",
       "      <td>1</td>\n",
       "      <td>4.123697e-07</td>\n",
       "      <td>6</td>\n",
       "      <td>2425008.609</td>\n",
       "      <td>0.027778</td>\n",
       "    </tr>\n",
       "  </tbody>\n",
       "</table>\n",
       "</div>"
      ],
      "text/plain": [
       "  Order Maxima   Line color    Left (°)   Right (°)  Average Angle (°)  \\\n",
       "0        First          Red  156.566667  203.233333          23.333333   \n",
       "1       Second          Red         NaN  230.733333          50.733333   \n",
       "2        First   Blue-Green  163.000000  197.233333          17.116667   \n",
       "3       Second   Blue-Green  143.500000  215.416667          35.958333   \n",
       "4        Third   Blue-Green  114.150000  238.816667          62.333333   \n",
       "5        First  Blue-Violet  164.883333  195.250000          15.183333   \n",
       "6       Second  Blue-Violet  148.000000  211.233333          31.616667   \n",
       "7        First       Violet  165.750000  194.400000          14.325000   \n",
       "\n",
       "   Angle (Rad)  Uncertainty (°)  Uncertainty (Rad)  m    Lambda (m)  \\\n",
       "0     0.407243         0.016667           0.000291  1  6.601329e-07   \n",
       "1     0.885464         0.016667           0.000291  2  6.451738e-07   \n",
       "2     0.298742         0.016667           0.000291  1  4.905306e-07   \n",
       "3     0.627591         0.016667           0.000291  2  4.893306e-07   \n",
       "4     1.087922         0.016667           0.000291  3  4.920355e-07   \n",
       "5     0.264999         0.016667           0.000291  1  4.365141e-07   \n",
       "6     0.551815         0.016667           0.000291  2  4.368614e-07   \n",
       "7     0.250018         0.016667           0.000291  1  4.123697e-07   \n",
       "\n",
       "   Energy level n  $1/\\lambda \\ (m^{-1})$   $1/n^2$  \n",
       "0               3             1514846.381  0.111111  \n",
       "1               3             1549969.936  0.111111  \n",
       "2               4             2038608.931  0.062500  \n",
       "3               4             2043607.995  0.062500  \n",
       "4               4             2032373.657  0.062500  \n",
       "5               5             2290876.782  0.040000  \n",
       "6               5             2289055.692  0.040000  \n",
       "7               6             2425008.609  0.027778  "
      ]
     },
     "execution_count": 3,
     "metadata": {},
     "output_type": "execute_result"
    }
   ],
   "source": [
    "# READING THE DATA FROM GOOGLE SHEETS ---------------------------------------\n",
    "googleSheetId = '1RbLYnRVWaI9OWlUjq7lnrbepy-XmkaafO4fYj2lxBJ8'\n",
    "workSheetName = 'Week1'\n",
    "URL = 'https://docs.google.com/spreadsheets/d/{0}/gviz/tq?tqx=out:csv&sheet={1}'.format(\n",
    "    googleSheetId, workSheetName)\n",
    "df = pd.read_csv(URL)\n",
    "df = df.iloc[: , :13]\n",
    "df"
   ]
  },
  {
   "cell_type": "code",
   "execution_count": 4,
   "id": "56ace4fb-22b7-4442-b2bd-76b22e854b6c",
   "metadata": {},
   "outputs": [
    {
     "data": {
      "application/vnd.jupyter.widget-view+json": {
       "model_id": "980ce4310731437a825fda6baa68921c",
       "version_major": 2,
       "version_minor": 0
      },
      "text/plain": [
       "Dropdown(description='Y-axis', layout=Layout(width='max-content'), options=('Select Column', 'Order Maxima', '…"
      ]
     },
     "metadata": {},
     "output_type": "display_data"
    },
    {
     "data": {
      "application/vnd.jupyter.widget-view+json": {
       "model_id": "08634642f4a242a9963802ab6be2493c",
       "version_major": 2,
       "version_minor": 0
      },
      "text/plain": [
       "Dropdown(description='X-axis', layout=Layout(width='max-content'), options=('Select Column', 'Order Maxima', '…"
      ]
     },
     "metadata": {},
     "output_type": "display_data"
    },
    {
     "data": {
      "application/vnd.jupyter.widget-view+json": {
       "model_id": "b054d68085e74c238cd6ad35b2e4cfe2",
       "version_major": 2,
       "version_minor": 0
      },
      "text/plain": [
       "Dropdown(description='Error_Y', layout=Layout(width='max-content'), options=('Select Column', 'Order Maxima', …"
      ]
     },
     "metadata": {},
     "output_type": "display_data"
    },
    {
     "data": {
      "application/vnd.jupyter.widget-view+json": {
       "model_id": "ac94ef735a7c45bd98f6ebf18bc83918",
       "version_major": 2,
       "version_minor": 0
      },
      "text/plain": [
       "Dropdown(description='Error_X', layout=Layout(width='max-content'), options=('Select Column', 'Order Maxima', …"
      ]
     },
     "metadata": {},
     "output_type": "display_data"
    }
   ],
   "source": [
    "# DISPLAYING DROPDOWN MENU OF COLUMNS ---------------------------------------\n",
    "df['Error n'] = 'NaN'\n",
    "# Calculating uncertainty in the wavelength\n",
    "d, m = (10**(-3))/600, 1\n",
    "df['Avg angle error'] = df.apply(lambda x: uncertainty_var([x['Left (°)'], x['Right (°)']], [x['Uncertainty (°)'], x['Uncertainty (°)']], average_angle), axis=1)\n",
    "df.at[1,'Avg angle error'] = 0.000290888208665722 # We got only one value for the red line\n",
    "df['Error lambda'] = df.apply(lambda x: uncertainty_var([d, m, x['Angle (Rad)']], [0, 0, x['Avg angle error']], wavelength), axis=1)\n",
    "df['Error 1/lambda'] = df.apply(lambda x: uncertainty_var([x['Lambda (m)']], [x['Error lambda']], lambda_inverse), axis=1)\n",
    "df2 = df[(df['Order Maxima'] == 'First')]\n",
    "filenames = list(df2.columns.values)\n",
    "filenames.insert(0, 'Select Column')\n",
    "drop_down_x = widgets.Dropdown(options=filenames,\n",
    "                                description='X-axis',\n",
    "                                disabled=False,\n",
    "                                layout={'width': 'max-content'})\n",
    "drop_down_y = widgets.Dropdown(options=filenames,\n",
    "                                description='Y-axis',\n",
    "                                disabled=False,\n",
    "                                layout={'width': 'max-content'})\n",
    "drop_down_error_y = widgets.Dropdown(options=filenames,\n",
    "                                description='Error_Y',\n",
    "                                disabled=False,\n",
    "                                layout={'width': 'max-content'})\n",
    "drop_down_error_x = widgets.Dropdown(options=filenames,\n",
    "                                description='Error_X',\n",
    "                                disabled=False,\n",
    "                                layout={'width': 'max-content'})\n",
    "display(drop_down_y, drop_down_x, drop_down_error_y, drop_down_error_x)"
   ]
  },
  {
   "cell_type": "code",
   "execution_count": 6,
   "id": "86204d75-5ca2-4996-b7d1-4d154cdb7ba2",
   "metadata": {},
   "outputs": [
    {
     "data": {
      "text/html": [
       "<div>\n",
       "<style scoped>\n",
       "    .dataframe tbody tr th:only-of-type {\n",
       "        vertical-align: middle;\n",
       "    }\n",
       "\n",
       "    .dataframe tbody tr th {\n",
       "        vertical-align: top;\n",
       "    }\n",
       "\n",
       "    .dataframe thead th {\n",
       "        text-align: right;\n",
       "    }\n",
       "</style>\n",
       "<table border=\"1\" class=\"dataframe\">\n",
       "  <thead>\n",
       "    <tr style=\"text-align: right;\">\n",
       "      <th></th>\n",
       "      <th>Order Maxima</th>\n",
       "      <th>Line color</th>\n",
       "      <th>Left (°)</th>\n",
       "      <th>Right (°)</th>\n",
       "      <th>Average Angle (°)</th>\n",
       "      <th>Angle (Rad)</th>\n",
       "      <th>Uncertainty (°)</th>\n",
       "      <th>Uncertainty (Rad)</th>\n",
       "      <th>m</th>\n",
       "      <th>Lambda (m)</th>\n",
       "      <th>Energy level n</th>\n",
       "      <th>$1/\\lambda \\ (m^{-1})$</th>\n",
       "      <th>$1/n^2$</th>\n",
       "      <th>Error n</th>\n",
       "      <th>Avg angle error</th>\n",
       "      <th>Error lambda</th>\n",
       "      <th>Error 1/lambda</th>\n",
       "    </tr>\n",
       "  </thead>\n",
       "  <tbody>\n",
       "    <tr>\n",
       "      <th>0</th>\n",
       "      <td>First</td>\n",
       "      <td>Red</td>\n",
       "      <td>156.566667</td>\n",
       "      <td>203.233333</td>\n",
       "      <td>23.333333</td>\n",
       "      <td>0.407243</td>\n",
       "      <td>0.016667</td>\n",
       "      <td>0.000291</td>\n",
       "      <td>1</td>\n",
       "      <td>6.601329e-07</td>\n",
       "      <td>3</td>\n",
       "      <td>1514846.381</td>\n",
       "      <td>0.111111</td>\n",
       "      <td>NaN</td>\n",
       "      <td>0.000206</td>\n",
       "      <td>3.147783e-10</td>\n",
       "      <td>722.340655</td>\n",
       "    </tr>\n",
       "    <tr>\n",
       "      <th>1</th>\n",
       "      <td>Second</td>\n",
       "      <td>Red</td>\n",
       "      <td>NaN</td>\n",
       "      <td>230.733333</td>\n",
       "      <td>50.733333</td>\n",
       "      <td>0.885464</td>\n",
       "      <td>0.016667</td>\n",
       "      <td>0.000291</td>\n",
       "      <td>2</td>\n",
       "      <td>6.451738e-07</td>\n",
       "      <td>3</td>\n",
       "      <td>1549969.936</td>\n",
       "      <td>0.111111</td>\n",
       "      <td>NaN</td>\n",
       "      <td>0.000291</td>\n",
       "      <td>3.068534e-10</td>\n",
       "      <td>737.186844</td>\n",
       "    </tr>\n",
       "    <tr>\n",
       "      <th>2</th>\n",
       "      <td>First</td>\n",
       "      <td>Blue-Green</td>\n",
       "      <td>163.000000</td>\n",
       "      <td>197.233333</td>\n",
       "      <td>17.116667</td>\n",
       "      <td>0.298742</td>\n",
       "      <td>0.016667</td>\n",
       "      <td>0.000291</td>\n",
       "      <td>1</td>\n",
       "      <td>4.905306e-07</td>\n",
       "      <td>4</td>\n",
       "      <td>2038608.931</td>\n",
       "      <td>0.062500</td>\n",
       "      <td>NaN</td>\n",
       "      <td>0.000206</td>\n",
       "      <td>3.276309e-10</td>\n",
       "      <td>1361.610439</td>\n",
       "    </tr>\n",
       "    <tr>\n",
       "      <th>3</th>\n",
       "      <td>Second</td>\n",
       "      <td>Blue-Green</td>\n",
       "      <td>143.500000</td>\n",
       "      <td>215.416667</td>\n",
       "      <td>35.958333</td>\n",
       "      <td>0.627591</td>\n",
       "      <td>0.016667</td>\n",
       "      <td>0.000291</td>\n",
       "      <td>2</td>\n",
       "      <td>4.893306e-07</td>\n",
       "      <td>4</td>\n",
       "      <td>2043607.995</td>\n",
       "      <td>0.062500</td>\n",
       "      <td>NaN</td>\n",
       "      <td>0.000206</td>\n",
       "      <td>2.774897e-10</td>\n",
       "      <td>1158.889755</td>\n",
       "    </tr>\n",
       "    <tr>\n",
       "      <th>4</th>\n",
       "      <td>Third</td>\n",
       "      <td>Blue-Green</td>\n",
       "      <td>114.150000</td>\n",
       "      <td>238.816667</td>\n",
       "      <td>62.333333</td>\n",
       "      <td>1.087922</td>\n",
       "      <td>0.016667</td>\n",
       "      <td>0.000291</td>\n",
       "      <td>3</td>\n",
       "      <td>4.920355e-07</td>\n",
       "      <td>4</td>\n",
       "      <td>2032373.657</td>\n",
       "      <td>0.062500</td>\n",
       "      <td>NaN</td>\n",
       "      <td>0.000206</td>\n",
       "      <td>1.591782e-10</td>\n",
       "      <td>657.492554</td>\n",
       "    </tr>\n",
       "    <tr>\n",
       "      <th>5</th>\n",
       "      <td>First</td>\n",
       "      <td>Blue-Violet</td>\n",
       "      <td>164.883333</td>\n",
       "      <td>195.250000</td>\n",
       "      <td>15.183333</td>\n",
       "      <td>0.264999</td>\n",
       "      <td>0.016667</td>\n",
       "      <td>0.000291</td>\n",
       "      <td>1</td>\n",
       "      <td>4.365141e-07</td>\n",
       "      <td>5</td>\n",
       "      <td>2290876.782</td>\n",
       "      <td>0.040000</td>\n",
       "      <td>NaN</td>\n",
       "      <td>0.000206</td>\n",
       "      <td>3.308483e-10</td>\n",
       "      <td>1736.331392</td>\n",
       "    </tr>\n",
       "    <tr>\n",
       "      <th>6</th>\n",
       "      <td>Second</td>\n",
       "      <td>Blue-Violet</td>\n",
       "      <td>148.000000</td>\n",
       "      <td>211.233333</td>\n",
       "      <td>31.616667</td>\n",
       "      <td>0.551815</td>\n",
       "      <td>0.016667</td>\n",
       "      <td>0.000291</td>\n",
       "      <td>2</td>\n",
       "      <td>4.368614e-07</td>\n",
       "      <td>5</td>\n",
       "      <td>2289055.692</td>\n",
       "      <td>0.040000</td>\n",
       "      <td>NaN</td>\n",
       "      <td>0.000206</td>\n",
       "      <td>2.919325e-10</td>\n",
       "      <td>1529.661776</td>\n",
       "    </tr>\n",
       "    <tr>\n",
       "      <th>7</th>\n",
       "      <td>First</td>\n",
       "      <td>Violet</td>\n",
       "      <td>165.750000</td>\n",
       "      <td>194.400000</td>\n",
       "      <td>14.325000</td>\n",
       "      <td>0.250018</td>\n",
       "      <td>0.016667</td>\n",
       "      <td>0.000291</td>\n",
       "      <td>1</td>\n",
       "      <td>4.123697e-07</td>\n",
       "      <td>6</td>\n",
       "      <td>2425008.609</td>\n",
       "      <td>0.027778</td>\n",
       "      <td>NaN</td>\n",
       "      <td>0.000206</td>\n",
       "      <td>3.321562e-10</td>\n",
       "      <td>1953.301118</td>\n",
       "    </tr>\n",
       "  </tbody>\n",
       "</table>\n",
       "</div>"
      ],
      "text/plain": [
       "  Order Maxima   Line color    Left (°)   Right (°)  Average Angle (°)  \\\n",
       "0        First          Red  156.566667  203.233333          23.333333   \n",
       "1       Second          Red         NaN  230.733333          50.733333   \n",
       "2        First   Blue-Green  163.000000  197.233333          17.116667   \n",
       "3       Second   Blue-Green  143.500000  215.416667          35.958333   \n",
       "4        Third   Blue-Green  114.150000  238.816667          62.333333   \n",
       "5        First  Blue-Violet  164.883333  195.250000          15.183333   \n",
       "6       Second  Blue-Violet  148.000000  211.233333          31.616667   \n",
       "7        First       Violet  165.750000  194.400000          14.325000   \n",
       "\n",
       "   Angle (Rad)  Uncertainty (°)  Uncertainty (Rad)  m    Lambda (m)  \\\n",
       "0     0.407243         0.016667           0.000291  1  6.601329e-07   \n",
       "1     0.885464         0.016667           0.000291  2  6.451738e-07   \n",
       "2     0.298742         0.016667           0.000291  1  4.905306e-07   \n",
       "3     0.627591         0.016667           0.000291  2  4.893306e-07   \n",
       "4     1.087922         0.016667           0.000291  3  4.920355e-07   \n",
       "5     0.264999         0.016667           0.000291  1  4.365141e-07   \n",
       "6     0.551815         0.016667           0.000291  2  4.368614e-07   \n",
       "7     0.250018         0.016667           0.000291  1  4.123697e-07   \n",
       "\n",
       "   Energy level n  $1/\\lambda \\ (m^{-1})$   $1/n^2$ Error n  Avg angle error  \\\n",
       "0               3             1514846.381  0.111111     NaN         0.000206   \n",
       "1               3             1549969.936  0.111111     NaN         0.000291   \n",
       "2               4             2038608.931  0.062500     NaN         0.000206   \n",
       "3               4             2043607.995  0.062500     NaN         0.000206   \n",
       "4               4             2032373.657  0.062500     NaN         0.000206   \n",
       "5               5             2290876.782  0.040000     NaN         0.000206   \n",
       "6               5             2289055.692  0.040000     NaN         0.000206   \n",
       "7               6             2425008.609  0.027778     NaN         0.000206   \n",
       "\n",
       "   Error lambda  Error 1/lambda  \n",
       "0  3.147783e-10      722.340655  \n",
       "1  3.068534e-10      737.186844  \n",
       "2  3.276309e-10     1361.610439  \n",
       "3  2.774897e-10     1158.889755  \n",
       "4  1.591782e-10      657.492554  \n",
       "5  3.308483e-10     1736.331392  \n",
       "6  2.919325e-10     1529.661776  \n",
       "7  3.321562e-10     1953.301118  "
      ]
     },
     "execution_count": 6,
     "metadata": {},
     "output_type": "execute_result"
    }
   ],
   "source": [
    "df"
   ]
  },
  {
   "cell_type": "markdown",
   "id": "9e8dcc19-c85c-4e44-ac46-bf0d5058b14c",
   "metadata": {},
   "source": [
    "## (m = 1) ORDER DATA"
   ]
  },
  {
   "cell_type": "code",
   "execution_count": 7,
   "id": "efcba640-b8c6-40d9-b627-7d73b603dc75",
   "metadata": {},
   "outputs": [
    {
     "data": {
      "image/png": "[encoded data removed]",
      "text/plain": [
       "<Figure size 400x400 with 1 Axes>"
      ]
     },
     "metadata": {
      "needs_background": "light"
     },
     "output_type": "display_data"
    }
   ],
   "source": [
    "xdata, ydata, error_y = df2[drop_down_x.value], df2[drop_down_y.value], df2[drop_down_error_y.value]\n",
    "parameters, covariance = opt.curve_fit(linear, xdata, ydata, sigma = error_y)\n",
    "slope = parameters[0]\n",
    "b = parameters[1]\n",
    "\n",
    "#Calculate the error on the fits from the covariacne matrix\n",
    "perr = np.sqrt(np.diag(covariance))\n",
    "slope_error = perr[0]\n",
    "b_error = perr[1]\n",
    "    \n",
    "# PLOTTING THE DATA ---------------------------------------\n",
    "title = r'$\\textbf{Deformation (m) vs Mass (Kg)}$'\n",
    "LinearPlot(xdata,ydata,error_y,slope,b,title,linear,drop_down_x.value,drop_down_y.value,'green')"
   ]
  },
  {
   "cell_type": "code",
   "execution_count": 8,
   "id": "0b4df37b-ea5d-452d-ac71-f53e06f73876",
   "metadata": {},
   "outputs": [
    {
     "name": "stdout",
     "output_type": "stream",
     "text": [
      "Experimental Rydberg constant: ( 10887237.727981407  ±  54956.03100276205 ) m-1\n",
      "Theoretical Rydberg constant: 1.0968e+07 m-1\n",
      "Percentage error:  0.7341724474149034 %\n",
      "Experimental precision: 0.5047747865514037 %\n",
      "Sigmas: 1.454455466032155\n"
     ]
    }
   ],
   "source": [
    "slope = abs(slope)\n",
    "slope_theor = 1.096776*10**7\n",
    "units = 'm-1'\n",
    "print('Experimental Rydberg constant: (', slope, ' ± ', slope_error, \")\", units)\n",
    "print('Theoretical Rydberg constant: ' + \"{:.4e}\".format(slope_theor) + ' ' + units)\n",
    "\n",
    "# DETERMING THE %ERROR\n",
    "error = abs((slope-slope_theor)/slope_theor)*100\n",
    "print(\"Percentage error: \", error, \"%\")\n",
    "exp_precision = 100*slope_error/slope\n",
    "print('Experimental precision:', exp_precision, '%')\n",
    "print('Sigmas:', error/exp_precision)"
   ]
  },
  {
   "cell_type": "markdown",
   "id": "c4de503f-92f8-4725-a128-57fb9e90fdeb",
   "metadata": {},
   "source": [
    "## ALL ORDERS DATA"
   ]
  },
  {
   "cell_type": "code",
   "execution_count": 9,
   "id": "58b7eb5d-026d-4e99-99a7-049a51b7ab78",
   "metadata": {},
   "outputs": [
    {
     "data": {
      "image/png": "[encoded data removed]",
      "text/plain": [
       "<Figure size 400x400 with 1 Axes>"
      ]
     },
     "metadata": {
      "needs_background": "light"
     },
     "output_type": "display_data"
    }
   ],
   "source": [
    "xdata, ydata, error_y = df[drop_down_x.value], df[drop_down_y.value], df[drop_down_error_y.value]\n",
    "parameters, covariance = opt.curve_fit(linear, xdata, ydata, sigma = error_y)\n",
    "slope = parameters[0]\n",
    "b = parameters[1]\n",
    "\n",
    "#Calculate the error on the fits from the covariacne matrix\n",
    "perr = np.sqrt(np.diag(covariance))\n",
    "slope_error = perr[0]\n",
    "b_error = perr[1]\n",
    "\n",
    "# PLOTTING THE DATA ---------------------------------------\n",
    "title = r'$\\textbf{Deformation (m) vs Mass (Kg)}$'\n",
    "LinearPlot(xdata,ydata,error_y,slope,b,title,linear,drop_down_x.value,drop_down_y.value,'blue')"
   ]
  },
  {
   "cell_type": "code",
   "execution_count": 10,
   "id": "42d4c454-f237-49a3-8645-58fb9b5405e7",
   "metadata": {},
   "outputs": [
    {
     "name": "stdout",
     "output_type": "stream",
     "text": [
      "Experimental Rydberg constant: ( 10521065.698099991  ±  197874.78733799825 ) m-1\n",
      "Theoretical Rydberg constant: 1.0968e+07 m-1\n",
      "Percentage error:  4.072794279780089 %\n",
      "Experimental precision: 1.8807485193608537 %\n",
      "Sigmas: 2.1655177382057285\n"
     ]
    }
   ],
   "source": [
    "slope = abs(slope)\n",
    "slope_theor = 1.096776*10**7\n",
    "units = 'm-1'\n",
    "print('Experimental Rydberg constant: (', slope, ' ± ', slope_error, \")\", units)\n",
    "print('Theoretical Rydberg constant: ' + \"{:.4e}\".format(slope_theor) + ' ' + units)\n",
    "\n",
    "# DETERMING THE %ERROR\n",
    "error = abs((slope-slope_theor)/slope_theor)*100\n",
    "print(\"Percentage error: \", error, \"%\")\n",
    "exp_precision = 100*slope_error/slope\n",
    "print('Experimental precision:', exp_precision, '%')\n",
    "print('Sigmas:', error/exp_precision)"
   ]
  },
  {
   "cell_type": "markdown",
   "id": "3bf7129a-53cc-478f-857f-e22449a6036e",
   "metadata": {},
   "source": [
    "# WEIGHTED AVERAGES"
   ]
  },
  {
   "cell_type": "code",
   "execution_count": 33,
   "id": "b0a009df-fbbd-4a12-9d62-3303e50a3987",
   "metadata": {},
   "outputs": [],
   "source": [
    "# Generating arrays for saving the weighted averages found\n",
    "lambdas_inv, errors = [], []"
   ]
  },
  {
   "cell_type": "code",
   "execution_count": 34,
   "id": "af566dc3-7ca3-4754-95c4-f6adf6d4a76d",
   "metadata": {},
   "outputs": [
    {
     "data": {
      "text/html": [
       "<div>\n",
       "<style scoped>\n",
       "    .dataframe tbody tr th:only-of-type {\n",
       "        vertical-align: middle;\n",
       "    }\n",
       "\n",
       "    .dataframe tbody tr th {\n",
       "        vertical-align: top;\n",
       "    }\n",
       "\n",
       "    .dataframe thead th {\n",
       "        text-align: right;\n",
       "    }\n",
       "</style>\n",
       "<table border=\"1\" class=\"dataframe\">\n",
       "  <thead>\n",
       "    <tr style=\"text-align: right;\">\n",
       "      <th></th>\n",
       "      <th>Order Maxima</th>\n",
       "      <th>Line color</th>\n",
       "      <th>Left (°)</th>\n",
       "      <th>Right (°)</th>\n",
       "      <th>Average Angle (°)</th>\n",
       "      <th>Angle (Rad)</th>\n",
       "      <th>Uncertainty (°)</th>\n",
       "      <th>Uncertainty (Rad)</th>\n",
       "      <th>m</th>\n",
       "      <th>Lambda (m)</th>\n",
       "      <th>Energy level n</th>\n",
       "      <th>$1/\\lambda \\ (m^{-1})$</th>\n",
       "      <th>$1/n^2$</th>\n",
       "      <th>Error n</th>\n",
       "      <th>Avg angle error</th>\n",
       "      <th>Error lambda</th>\n",
       "      <th>Error 1/lambda</th>\n",
       "    </tr>\n",
       "  </thead>\n",
       "  <tbody>\n",
       "    <tr>\n",
       "      <th>0</th>\n",
       "      <td>First</td>\n",
       "      <td>Red</td>\n",
       "      <td>156.566667</td>\n",
       "      <td>203.233333</td>\n",
       "      <td>23.333333</td>\n",
       "      <td>0.407243</td>\n",
       "      <td>0.016667</td>\n",
       "      <td>0.000291</td>\n",
       "      <td>1</td>\n",
       "      <td>6.601329e-07</td>\n",
       "      <td>3</td>\n",
       "      <td>1514846.381</td>\n",
       "      <td>0.111111</td>\n",
       "      <td>NaN</td>\n",
       "      <td>0.000206</td>\n",
       "      <td>3.147783e-10</td>\n",
       "      <td>722.340655</td>\n",
       "    </tr>\n",
       "    <tr>\n",
       "      <th>1</th>\n",
       "      <td>Second</td>\n",
       "      <td>Red</td>\n",
       "      <td>NaN</td>\n",
       "      <td>230.733333</td>\n",
       "      <td>50.733333</td>\n",
       "      <td>0.885464</td>\n",
       "      <td>0.016667</td>\n",
       "      <td>0.000291</td>\n",
       "      <td>2</td>\n",
       "      <td>6.451738e-07</td>\n",
       "      <td>3</td>\n",
       "      <td>1549969.936</td>\n",
       "      <td>0.111111</td>\n",
       "      <td>NaN</td>\n",
       "      <td>0.000291</td>\n",
       "      <td>3.068534e-10</td>\n",
       "      <td>737.186844</td>\n",
       "    </tr>\n",
       "  </tbody>\n",
       "</table>\n",
       "</div>"
      ],
      "text/plain": [
       "  Order Maxima Line color    Left (°)   Right (°)  Average Angle (°)  \\\n",
       "0        First        Red  156.566667  203.233333          23.333333   \n",
       "1       Second        Red         NaN  230.733333          50.733333   \n",
       "\n",
       "   Angle (Rad)  Uncertainty (°)  Uncertainty (Rad)  m    Lambda (m)  \\\n",
       "0     0.407243         0.016667           0.000291  1  6.601329e-07   \n",
       "1     0.885464         0.016667           0.000291  2  6.451738e-07   \n",
       "\n",
       "   Energy level n  $1/\\lambda \\ (m^{-1})$   $1/n^2$ Error n  Avg angle error  \\\n",
       "0               3             1514846.381  0.111111     NaN         0.000206   \n",
       "1               3             1549969.936  0.111111     NaN         0.000291   \n",
       "\n",
       "   Error lambda  Error 1/lambda  \n",
       "0  3.147783e-10      722.340655  \n",
       "1  3.068534e-10      737.186844  "
      ]
     },
     "execution_count": 34,
     "metadata": {},
     "output_type": "execute_result"
    }
   ],
   "source": [
    "# RED LINE -----------------------------------------\n",
    "df_test = df[(df['Line color'] == 'Red')]\n",
    "df_test"
   ]
  },
  {
   "cell_type": "code",
   "execution_count": 35,
   "id": "5748ce31-6f0e-46dd-a162-5b1f69b8b789",
   "metadata": {},
   "outputs": [
    {
     "name": "stdout",
     "output_type": "stream",
     "text": [
      "Lambda1 =  6.601329434e-07 ± 3.1477829065644604e-10 m\n",
      "Lambda2 =  6.45173804e-07 ± 3.068533920318356e-10 m\n"
     ]
    }
   ],
   "source": [
    "lambda1, lambda2 = df_test.at[0,'Lambda (m)'], df_test.at[1,'Lambda (m)'] \n",
    "err1, err2 = df_test.at[0,'Error lambda'], df_test.at[1,'Error lambda'] \n",
    "print('Lambda1 = ', lambda1, '±', err1, 'm')\n",
    "print('Lambda2 = ', lambda2, '±', err2, 'm')"
   ]
  },
  {
   "cell_type": "code",
   "execution_count": 36,
   "id": "e35f8d39-bb8a-4d2e-9904-09310868988b",
   "metadata": {},
   "outputs": [],
   "source": [
    "# DEFINING A FUNCTION THAT RETURNS THE WEIGHTED AVERAGE WITH UNCERTAINTY\n",
    "def weighted_avgs(values, deltas):\n",
    "    weights = np.array(list(map(lambda x : 1/x**2, deltas)))\n",
    "    best_val = np.dot(np.array(values), weights)/weights.sum()\n",
    "    uncert = 1/np.sqrt(weights.sum())\n",
    "    return [best_val, uncert]"
   ]
  },
  {
   "cell_type": "code",
   "execution_count": 37,
   "id": "01185f63-168c-47f7-a137-635ca79f2b97",
   "metadata": {},
   "outputs": [
    {
     "name": "stdout",
     "output_type": "stream",
     "text": [
      "Lambda_avg =  6.524626974485137e-07 ± 2.197264144594314e-10 m\n"
     ]
    }
   ],
   "source": [
    "wa = weighted_avgs([lambda1, lambda2], [err1, err2])\n",
    "lambda_avg, uncert = wa[0], wa[1]\n",
    "lambdas_inv.append(1/lambda_avg), errors.append(uncertainty_var([lambda_avg], [uncert], lambda_inverse))\n",
    "print('Lambda_avg = ', lambda_avg, '±', uncert, 'm')"
   ]
  },
  {
   "cell_type": "code",
   "execution_count": 38,
   "id": "1245382a-8dfb-44a2-87ed-3f3b8565a304",
   "metadata": {},
   "outputs": [
    {
     "data": {
      "text/html": [
       "<div>\n",
       "<style scoped>\n",
       "    .dataframe tbody tr th:only-of-type {\n",
       "        vertical-align: middle;\n",
       "    }\n",
       "\n",
       "    .dataframe tbody tr th {\n",
       "        vertical-align: top;\n",
       "    }\n",
       "\n",
       "    .dataframe thead th {\n",
       "        text-align: right;\n",
       "    }\n",
       "</style>\n",
       "<table border=\"1\" class=\"dataframe\">\n",
       "  <thead>\n",
       "    <tr style=\"text-align: right;\">\n",
       "      <th></th>\n",
       "      <th>Order Maxima</th>\n",
       "      <th>Line color</th>\n",
       "      <th>Left (°)</th>\n",
       "      <th>Right (°)</th>\n",
       "      <th>Average Angle (°)</th>\n",
       "      <th>Angle (Rad)</th>\n",
       "      <th>Uncertainty (°)</th>\n",
       "      <th>Uncertainty (Rad)</th>\n",
       "      <th>m</th>\n",
       "      <th>Lambda (m)</th>\n",
       "      <th>Energy level n</th>\n",
       "      <th>$1/\\lambda \\ (m^{-1})$</th>\n",
       "      <th>$1/n^2$</th>\n",
       "      <th>Error n</th>\n",
       "      <th>Avg angle error</th>\n",
       "      <th>Error lambda</th>\n",
       "      <th>Error 1/lambda</th>\n",
       "    </tr>\n",
       "  </thead>\n",
       "  <tbody>\n",
       "    <tr>\n",
       "      <th>2</th>\n",
       "      <td>First</td>\n",
       "      <td>Blue-Green</td>\n",
       "      <td>163.00</td>\n",
       "      <td>197.233333</td>\n",
       "      <td>17.116667</td>\n",
       "      <td>0.298742</td>\n",
       "      <td>0.016667</td>\n",
       "      <td>0.000291</td>\n",
       "      <td>1</td>\n",
       "      <td>4.905306e-07</td>\n",
       "      <td>4</td>\n",
       "      <td>2038608.931</td>\n",
       "      <td>0.0625</td>\n",
       "      <td>NaN</td>\n",
       "      <td>0.000206</td>\n",
       "      <td>3.276309e-10</td>\n",
       "      <td>1361.610439</td>\n",
       "    </tr>\n",
       "    <tr>\n",
       "      <th>3</th>\n",
       "      <td>Second</td>\n",
       "      <td>Blue-Green</td>\n",
       "      <td>143.50</td>\n",
       "      <td>215.416667</td>\n",
       "      <td>35.958333</td>\n",
       "      <td>0.627591</td>\n",
       "      <td>0.016667</td>\n",
       "      <td>0.000291</td>\n",
       "      <td>2</td>\n",
       "      <td>4.893306e-07</td>\n",
       "      <td>4</td>\n",
       "      <td>2043607.995</td>\n",
       "      <td>0.0625</td>\n",
       "      <td>NaN</td>\n",
       "      <td>0.000206</td>\n",
       "      <td>2.774897e-10</td>\n",
       "      <td>1158.889755</td>\n",
       "    </tr>\n",
       "    <tr>\n",
       "      <th>4</th>\n",
       "      <td>Third</td>\n",
       "      <td>Blue-Green</td>\n",
       "      <td>114.15</td>\n",
       "      <td>238.816667</td>\n",
       "      <td>62.333333</td>\n",
       "      <td>1.087922</td>\n",
       "      <td>0.016667</td>\n",
       "      <td>0.000291</td>\n",
       "      <td>3</td>\n",
       "      <td>4.920355e-07</td>\n",
       "      <td>4</td>\n",
       "      <td>2032373.657</td>\n",
       "      <td>0.0625</td>\n",
       "      <td>NaN</td>\n",
       "      <td>0.000206</td>\n",
       "      <td>1.591782e-10</td>\n",
       "      <td>657.492554</td>\n",
       "    </tr>\n",
       "  </tbody>\n",
       "</table>\n",
       "</div>"
      ],
      "text/plain": [
       "  Order Maxima  Line color  Left (°)   Right (°)  Average Angle (°)  \\\n",
       "2        First  Blue-Green    163.00  197.233333          17.116667   \n",
       "3       Second  Blue-Green    143.50  215.416667          35.958333   \n",
       "4        Third  Blue-Green    114.15  238.816667          62.333333   \n",
       "\n",
       "   Angle (Rad)  Uncertainty (°)  Uncertainty (Rad)  m    Lambda (m)  \\\n",
       "2     0.298742         0.016667           0.000291  1  4.905306e-07   \n",
       "3     0.627591         0.016667           0.000291  2  4.893306e-07   \n",
       "4     1.087922         0.016667           0.000291  3  4.920355e-07   \n",
       "\n",
       "   Energy level n  $1/\\lambda \\ (m^{-1})$  $1/n^2$ Error n  Avg angle error  \\\n",
       "2               4             2038608.931   0.0625     NaN         0.000206   \n",
       "3               4             2043607.995   0.0625     NaN         0.000206   \n",
       "4               4             2032373.657   0.0625     NaN         0.000206   \n",
       "\n",
       "   Error lambda  Error 1/lambda  \n",
       "2  3.276309e-10     1361.610439  \n",
       "3  2.774897e-10     1158.889755  \n",
       "4  1.591782e-10      657.492554  "
      ]
     },
     "execution_count": 38,
     "metadata": {},
     "output_type": "execute_result"
    }
   ],
   "source": [
    "# BLUE-GREEN LINE -----------------------------------------\n",
    "df_test = df[(df['Line color'] == 'Blue-Green')]\n",
    "df_test"
   ]
  },
  {
   "cell_type": "code",
   "execution_count": 39,
   "id": "ce28a9dc-7ad0-46e4-9100-dcdf1bdfc5cc",
   "metadata": {},
   "outputs": [
    {
     "name": "stdout",
     "output_type": "stream",
     "text": [
      "Lambda1 =  4.905305695e-07 ± 3.276308839979242e-10 m\n",
      "Lambda2 =  4.89330636e-07 ± 2.774896553870811e-10 m\n",
      "Lambda3 =  4.920355056e-07 ± 1.5917823286762677e-10 m\n"
     ]
    }
   ],
   "source": [
    "lambda1, lambda2, lambda3 = df_test.at[2,'Lambda (m)'], df_test.at[3,'Lambda (m)'], df_test.at[4,'Lambda (m)']\n",
    "err1, err2, err3 = df_test.at[2,'Error lambda'], df_test.at[3,'Error lambda'], df_test.at[4,'Error lambda'] \n",
    "print('Lambda1 = ', lambda1, '±', err1, 'm')\n",
    "print('Lambda2 = ', lambda2, '±', err2, 'm')\n",
    "print('Lambda3 = ', lambda3, '±', err3, 'm')"
   ]
  },
  {
   "cell_type": "code",
   "execution_count": 40,
   "id": "2649af31-3b97-4915-a2ba-49a73f2ebe5e",
   "metadata": {},
   "outputs": [
    {
     "name": "stdout",
     "output_type": "stream",
     "text": [
      "Lambda_avg =  4.912398425486479e-07 ± 1.272365432939907e-10 m\n"
     ]
    }
   ],
   "source": [
    "wa = weighted_avgs([lambda1, lambda2, lambda3], [err1, err2, err3])\n",
    "lambda_avg, uncert = wa[0], wa[1]\n",
    "lambdas_inv.append(1/lambda_avg), errors.append(uncertainty_var([lambda_avg], [uncert], lambda_inverse))\n",
    "print('Lambda_avg = ', lambda_avg, '±', uncert, 'm')"
   ]
  },
  {
   "cell_type": "code",
   "execution_count": 41,
   "id": "031777d5-f9fb-4953-b659-f5587ac1f1d2",
   "metadata": {},
   "outputs": [
    {
     "data": {
      "text/html": [
       "<div>\n",
       "<style scoped>\n",
       "    .dataframe tbody tr th:only-of-type {\n",
       "        vertical-align: middle;\n",
       "    }\n",
       "\n",
       "    .dataframe tbody tr th {\n",
       "        vertical-align: top;\n",
       "    }\n",
       "\n",
       "    .dataframe thead th {\n",
       "        text-align: right;\n",
       "    }\n",
       "</style>\n",
       "<table border=\"1\" class=\"dataframe\">\n",
       "  <thead>\n",
       "    <tr style=\"text-align: right;\">\n",
       "      <th></th>\n",
       "      <th>Order Maxima</th>\n",
       "      <th>Line color</th>\n",
       "      <th>Left (°)</th>\n",
       "      <th>Right (°)</th>\n",
       "      <th>Average Angle (°)</th>\n",
       "      <th>Angle (Rad)</th>\n",
       "      <th>Uncertainty (°)</th>\n",
       "      <th>Uncertainty (Rad)</th>\n",
       "      <th>m</th>\n",
       "      <th>Lambda (m)</th>\n",
       "      <th>Energy level n</th>\n",
       "      <th>$1/\\lambda \\ (m^{-1})$</th>\n",
       "      <th>$1/n^2$</th>\n",
       "      <th>Error n</th>\n",
       "      <th>Avg angle error</th>\n",
       "      <th>Error lambda</th>\n",
       "      <th>Error 1/lambda</th>\n",
       "    </tr>\n",
       "  </thead>\n",
       "  <tbody>\n",
       "    <tr>\n",
       "      <th>5</th>\n",
       "      <td>First</td>\n",
       "      <td>Blue-Violet</td>\n",
       "      <td>164.883333</td>\n",
       "      <td>195.250000</td>\n",
       "      <td>15.183333</td>\n",
       "      <td>0.264999</td>\n",
       "      <td>0.016667</td>\n",
       "      <td>0.000291</td>\n",
       "      <td>1</td>\n",
       "      <td>4.365141e-07</td>\n",
       "      <td>5</td>\n",
       "      <td>2290876.782</td>\n",
       "      <td>0.04</td>\n",
       "      <td>NaN</td>\n",
       "      <td>0.000206</td>\n",
       "      <td>3.308483e-10</td>\n",
       "      <td>1736.331392</td>\n",
       "    </tr>\n",
       "    <tr>\n",
       "      <th>6</th>\n",
       "      <td>Second</td>\n",
       "      <td>Blue-Violet</td>\n",
       "      <td>148.000000</td>\n",
       "      <td>211.233333</td>\n",
       "      <td>31.616667</td>\n",
       "      <td>0.551815</td>\n",
       "      <td>0.016667</td>\n",
       "      <td>0.000291</td>\n",
       "      <td>2</td>\n",
       "      <td>4.368614e-07</td>\n",
       "      <td>5</td>\n",
       "      <td>2289055.692</td>\n",
       "      <td>0.04</td>\n",
       "      <td>NaN</td>\n",
       "      <td>0.000206</td>\n",
       "      <td>2.919325e-10</td>\n",
       "      <td>1529.661776</td>\n",
       "    </tr>\n",
       "  </tbody>\n",
       "</table>\n",
       "</div>"
      ],
      "text/plain": [
       "  Order Maxima   Line color    Left (°)   Right (°)  Average Angle (°)  \\\n",
       "5        First  Blue-Violet  164.883333  195.250000          15.183333   \n",
       "6       Second  Blue-Violet  148.000000  211.233333          31.616667   \n",
       "\n",
       "   Angle (Rad)  Uncertainty (°)  Uncertainty (Rad)  m    Lambda (m)  \\\n",
       "5     0.264999         0.016667           0.000291  1  4.365141e-07   \n",
       "6     0.551815         0.016667           0.000291  2  4.368614e-07   \n",
       "\n",
       "   Energy level n  $1/\\lambda \\ (m^{-1})$  $1/n^2$ Error n  Avg angle error  \\\n",
       "5               5             2290876.782     0.04     NaN         0.000206   \n",
       "6               5             2289055.692     0.04     NaN         0.000206   \n",
       "\n",
       "   Error lambda  Error 1/lambda  \n",
       "5  3.308483e-10     1736.331392  \n",
       "6  2.919325e-10     1529.661776  "
      ]
     },
     "execution_count": 41,
     "metadata": {},
     "output_type": "execute_result"
    }
   ],
   "source": [
    "# BLUE-VIOLET LINE -----------------------------------------\n",
    "df_test = df[(df['Line color'] == 'Blue-Violet')]\n",
    "df_test"
   ]
  },
  {
   "cell_type": "code",
   "execution_count": 42,
   "id": "3616cd63-a15f-4887-afeb-93fc409c9c9c",
   "metadata": {},
   "outputs": [
    {
     "name": "stdout",
     "output_type": "stream",
     "text": [
      "Lambda1 =  4.365140927e-07 ± 3.308482990890899e-10 m\n",
      "Lambda2 =  4.368613676e-07 ± 2.9193253762862496e-10 m\n"
     ]
    }
   ],
   "source": [
    "lambda1, lambda2 = df_test.at[5,'Lambda (m)'], df_test.at[6,'Lambda (m)'] \n",
    "err1, err2 = df_test.at[5,'Error lambda'], df_test.at[6,'Error lambda'] \n",
    "print('Lambda1 = ', lambda1, '±', err1, 'm')\n",
    "print('Lambda2 = ', lambda2, '±', err2, 'm')"
   ]
  },
  {
   "cell_type": "code",
   "execution_count": 43,
   "id": "16d605e5-9f76-4917-906e-6735adadec0a",
   "metadata": {},
   "outputs": [
    {
     "name": "stdout",
     "output_type": "stream",
     "text": [
      "Lambda_avg =  4.3670934594570197e-07 ± 2.1889958383039714e-10 m\n"
     ]
    }
   ],
   "source": [
    "wa = weighted_avgs([lambda1, lambda2], [err1, err2])\n",
    "lambda_avg, uncert = wa[0], wa[1]\n",
    "lambdas_inv.append(1/lambda_avg), errors.append(uncertainty_var([lambda_avg], [uncert], lambda_inverse))\n",
    "print('Lambda_avg = ', lambda_avg, '±', uncert, 'm')"
   ]
  },
  {
   "cell_type": "code",
   "execution_count": 44,
   "id": "b4ddc021-3fac-4074-b55d-9e326fcc72d1",
   "metadata": {},
   "outputs": [
    {
     "name": "stdout",
     "output_type": "stream",
     "text": [
      "Lambda_avg =  4.123696701e-07 ± 3.3215618787888516e-10 m\n"
     ]
    }
   ],
   "source": [
    "# VIOLET LINE --- only one value\n",
    "lambda_avg, uncert = df.at[7,'Lambda (m)'], df.at[7,'Error lambda']\n",
    "lambdas_inv.append(1/lambda_avg), errors.append(uncertainty_var([lambda_avg], [uncert], lambda_inverse))\n",
    "print('Lambda_avg = ', lambda_avg, '±', uncert, 'm')"
   ]
  },
  {
   "cell_type": "code",
   "execution_count": 45,
   "id": "f226bbf3-2f02-49f4-82b5-8ee621310f09",
   "metadata": {},
   "outputs": [
    {
     "data": {
      "text/plain": [
       "([1532654.6696240986,\n",
       "  2035665.5006072095,\n",
       "  2289852.5284236404,\n",
       "  2425008.608798749],\n",
       " [516.1440717923688, 527.2598770336481, 1147.783751588082, 1953.3011180816684])"
      ]
     },
     "execution_count": 45,
     "metadata": {},
     "output_type": "execute_result"
    }
   ],
   "source": [
    "lambdas_inv, errors"
   ]
  },
  {
   "cell_type": "code",
   "execution_count": 46,
   "id": "1d7a98b7-0244-423c-8689-de1d2d969a60",
   "metadata": {},
   "outputs": [
    {
     "data": {
      "image/png": "[encoded data removed]",
      "text/plain": [
       "<Figure size 400x400 with 1 Axes>"
      ]
     },
     "metadata": {
      "needs_background": "light"
     },
     "output_type": "display_data"
    }
   ],
   "source": [
    "# GENERATING PLOT USING WEIGHTED AVERAGES DATA\n",
    "xdata, ydata, error_y = df2[drop_down_x.value], lambdas_inv, errors\n",
    "parameters, covariance = opt.curve_fit(linear, xdata, ydata, sigma = error_y)\n",
    "slope = parameters[0]\n",
    "b = parameters[1]\n",
    "\n",
    "#Calculate the error on the fits from the covariacne matrix\n",
    "perr = np.sqrt(np.diag(covariance))\n",
    "slope_error = perr[0]\n",
    "b_error = perr[1]\n",
    "\n",
    "# PLOTTING THE DATA ---------------------------------------\n",
    "title = r'$\\textbf{Deformation (m) vs Mass (Kg)}$'\n",
    "LinearPlot(xdata,ydata,error_y,slope,b,title,linear,drop_down_x.value,drop_down_y.value,'purple')"
   ]
  },
  {
   "cell_type": "code",
   "execution_count": 49,
   "id": "9a643adf-997f-49d9-988e-e8e42cb2cdd1",
   "metadata": {},
   "outputs": [
    {
     "name": "stdout",
     "output_type": "stream",
     "text": [
      "Experimental Rydberg constant: ( 10511216.739289418  ±  158871.9894285409 ) m-1\n",
      "Theoretical Rydberg constant: 1.0968e+07 m-1\n",
      "Percentage error:  4.162593462207252 %\n",
      "Experimental precision: 1.5114519409984215 %\n",
      "Sigmas: 2.754036267575642\n"
     ]
    }
   ],
   "source": [
    "slope = abs(slope)\n",
    "slope_theor = 1.096776*10**7\n",
    "units = 'm-1'\n",
    "print('Experimental Rydberg constant: (', slope, ' ± ', slope_error, \")\", units)\n",
    "print('Theoretical Rydberg constant: ' + \"{:.4e}\".format(slope_theor) + ' ' + units)\n",
    "\n",
    "# DETERMING THE %ERROR\n",
    "error = abs((slope-slope_theor)/slope_theor)*100\n",
    "print(\"Percentage error: \", error, \"%\")\n",
    "exp_precision = 100*slope_error/slope\n",
    "print('Experimental precision:', exp_precision, '%')\n",
    "print('Sigmas:', error/exp_precision)"
   ]
  },
  {
   "cell_type": "code",
   "execution_count": null,
   "id": "9a832f52-0792-478a-9725-728a9e59d9c7",
   "metadata": {},
   "outputs": [],
   "source": []
  }
 ],
 "metadata": {
  "kernelspec": {
   "display_name": "Python 3",
   "language": "python",
   "name": "python3"
  },
  "language_info": {
   "codemirror_mode": {
    "name": "ipython",
    "version": 3
   },
   "file_extension": ".py",
   "mimetype": "text/x-python",
   "name": "python",
   "nbconvert_exporter": "python",
   "pygments_lexer": "ipython3",
   "version": "3.8.8"
  }
 },
 "nbformat": 4,
 "nbformat_minor": 5
}
