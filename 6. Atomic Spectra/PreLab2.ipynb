{
 "cells": [
  {
   "cell_type": "code",
   "execution_count": 1,
   "id": "99043a54-7c15-4b8c-b3b0-0cc1fb858cb9",
   "metadata": {},
   "outputs": [],
   "source": [
    "import numpy as np\n",
    "from math import e\n",
    "import matplotlib.pyplot as plt\n",
    "from ipywidgets import interact\n",
    "plt.style.reload_library()\n",
    "plt.style.use(['science', 'grid'])"
   ]
  },
  {
   "cell_type": "code",
   "execution_count": 2,
   "id": "b172022a-e0b3-4e2a-93fb-2d93c19b9839",
   "metadata": {},
   "outputs": [],
   "source": [
    "def Gaussian(x,a,b,c,d):\n",
    "    return a*e**((-(x-b)**2)/(2*c**2)) + d\n",
    "\n",
    "def plotGaussian(a,b,c,d):\n",
    "    x = np.arange(-25,25,0.1)\n",
    "    y = Gaussian(x,a,b,c,d)\n",
    "    \n",
    "    fig, ax = plt.subplots(figsize=(5, 5), dpi=80)\n",
    "    plt.plot(x, y, '-', c='b')\n",
    "    plt.xlabel(\"x\", fontsize=20)\n",
    "    plt.ylabel(\"f(x)\", fontsize=20)\n",
    "    plt.xticks(fontsize=15)\n",
    "    plt.yticks(fontsize=15)\n",
    "    plt.ylim([0, 10])\n",
    "    ax.fill_between(x, 0, y, color='blue', alpha=.1)\n",
    "    plt.show()"
   ]
  },
  {
   "cell_type": "code",
   "execution_count": 3,
   "id": "6aa8dd58-543f-4d06-8b27-d62e474017af",
   "metadata": {},
   "outputs": [
    {
     "data": {
      "application/vnd.jupyter.widget-view+json": {
       "model_id": "2a7fa62108ff4d0bbcfae359adb7f2d5",
       "version_major": 2,
       "version_minor": 0
      },
      "text/plain": [
       "interactive(children=(IntSlider(value=5, description='a', max=10), IntSlider(value=0, description='b', max=5, …"
      ]
     },
     "metadata": {},
     "output_type": "display_data"
    },
    {
     "data": {
      "text/plain": [
       "<function __main__.plotGaussian(a, b, c, d)>"
      ]
     },
     "execution_count": 3,
     "metadata": {},
     "output_type": "execute_result"
    }
   ],
   "source": [
    "interact(plotGaussian, a=(0,10,1), b=(-5,5,1), c=(0,10,1), d=(-5,5,1))\n",
    "# a : Amplitude \n",
    "# b : Mean\n",
    "# c : Standard Deviation\n",
    "# d : Offset"
   ]
  },
  {
   "cell_type": "code",
   "execution_count": null,
   "id": "e07e8a7a-9957-418c-847a-45fe128b50ce",
   "metadata": {},
   "outputs": [],
   "source": []
  }
 ],
 "metadata": {
  "kernelspec": {
   "display_name": "Python 3",
   "language": "python",
   "name": "python3"
  },
  "language_info": {
   "codemirror_mode": {
    "name": "ipython",
    "version": 3
   },
   "file_extension": ".py",
   "mimetype": "text/x-python",
   "name": "python",
   "nbconvert_exporter": "python",
   "pygments_lexer": "ipython3",
   "version": "3.8.8"
  }
 },
 "nbformat": 4,
 "nbformat_minor": 5
}
