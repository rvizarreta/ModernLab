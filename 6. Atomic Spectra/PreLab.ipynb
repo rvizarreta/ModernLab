{
 "cells": [
  {
   "cell_type": "code",
   "execution_count": 65,
   "id": "1acd7f6d-8ecc-45ab-a65f-f8c37d24f2ae",
   "metadata": {},
   "outputs": [],
   "source": [
    "from scipy.constants import m_e, e, hbar, epsilon_0, m_p, m_n, h, c\n",
    "from math import pi\n",
    "\n",
    "# DEFINING A FUNCTION THAT RETURNS THE ENERGY ASSOCIATED WITH THE ENERGY LEVEL n CONSIDERING A MASS m\n",
    "def E(n,m):\n",
    "    return -((m*(e**4))/(32*(pi**2)*(epsilon_0**2)*(hbar**2)*(n**2)))/e\n",
    "\n",
    "# DEFINING A FUNCTION THAT RETURN THE REDUCED MASS\n",
    "def red_m(m1,m2):\n",
    "    return m1*m2/(m1+m2)"
   ]
  },
  {
   "cell_type": "code",
   "execution_count": 66,
   "id": "0d5ab019-693b-4f8a-9f65-576f5a61ff49",
   "metadata": {},
   "outputs": [
    {
     "data": {
      "text/plain": [
       "-13.605693122885839"
      ]
     },
     "execution_count": 66,
     "metadata": {},
     "output_type": "execute_result"
    }
   ],
   "source": [
    "# ENERGY OF THE GROUND STATE FOR THE HYDROGEN ATOM\n",
    "E(1,m_e)"
   ]
  },
  {
   "cell_type": "code",
   "execution_count": 67,
   "id": "52658cfe-08e5-48f2-8da4-dbd905bc3583",
   "metadata": {},
   "outputs": [
    {
     "data": {
      "text/plain": [
       "-13.598287264178731"
      ]
     },
     "execution_count": 67,
     "metadata": {},
     "output_type": "execute_result"
    }
   ],
   "source": [
    "# ENERGY OF THE GROUND STATE FOR THE HYDROGEN ATOM USING THE REDUCED MASS\n",
    "E(1,red_m(m_e, m_p))"
   ]
  },
  {
   "cell_type": "code",
   "execution_count": 68,
   "id": "6faf5807-0a52-4efd-80bd-b51f0ce2534c",
   "metadata": {},
   "outputs": [
    {
     "data": {
      "text/plain": [
       "-13.601991735804841"
      ]
     },
     "execution_count": 68,
     "metadata": {},
     "output_type": "execute_result"
    }
   ],
   "source": [
    "# ENERGY OF THE GROUND STATE OF DEUTERIUM \n",
    "E(1,red_m(m_e, m_p+m_n))"
   ]
  },
  {
   "cell_type": "code",
   "execution_count": 71,
   "id": "8c542a17-81a1-49aa-a605-16163daeb4d6",
   "metadata": {},
   "outputs": [
    {
     "data": {
      "text/plain": [
       "6.561122764245461e-07"
      ]
     },
     "execution_count": 71,
     "metadata": {},
     "output_type": "execute_result"
    }
   ],
   "source": [
    "# TRANSITION WAVELENGTH FROM n=3 TO n=2 OF HYDROGEN\n",
    "H_wav = abs(h*c/(E(2,m_e) - E(3,m_e))/e)\n",
    "H_wav"
   ]
  },
  {
   "cell_type": "code",
   "execution_count": 72,
   "id": "efe68c55-2e0e-429e-bdd4-1fb1458b4caa",
   "metadata": {},
   "outputs": [
    {
     "data": {
      "text/plain": [
       "6.562908183286151e-07"
      ]
     },
     "execution_count": 72,
     "metadata": {},
     "output_type": "execute_result"
    }
   ],
   "source": [
    "# TRANSITION WAVELENGTH FROM n=3 TO n=2 OF DEUTERIUM\n",
    "H2_wav = abs(h*c/(E(2,red_m(m_e, m_p+m_n)) - E(3,red_m(m_e, m_p+m_n)))/e)\n",
    "H2_wav"
   ]
  },
  {
   "cell_type": "code",
   "execution_count": 74,
   "id": "9b33c154-3766-4a36-9c98-6782724207ab",
   "metadata": {},
   "outputs": [
    {
     "name": "stdout",
     "output_type": "stream",
     "text": [
      "0.027212096234812917 %\n"
     ]
    }
   ],
   "source": [
    "# CALCULATING THE PERCENTAGE DIFFERENCE\n",
    "perc = 100*(abs(H_wav-H2_wav))/H_wav\n",
    "print(perc, '%')"
   ]
  },
  {
   "cell_type": "code",
   "execution_count": null,
   "id": "7585d69b-ef61-4ec5-9d68-266842cb01b4",
   "metadata": {},
   "outputs": [],
   "source": []
  }
 ],
 "metadata": {
  "kernelspec": {
   "display_name": "Python 3",
   "language": "python",
   "name": "python3"
  },
  "language_info": {
   "codemirror_mode": {
    "name": "ipython",
    "version": 3
   },
   "file_extension": ".py",
   "mimetype": "text/x-python",
   "name": "python",
   "nbconvert_exporter": "python",
   "pygments_lexer": "ipython3",
   "version": "3.8.8"
  }
 },
 "nbformat": 4,
 "nbformat_minor": 5
}
